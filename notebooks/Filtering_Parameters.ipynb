{
 "cells": [
  {
   "cell_type": "markdown",
   "metadata": {},
   "source": [
    "## This piece of code is an example in excessive memory allocation :("
   ]
  },
  {
   "cell_type": "code",
   "execution_count": 22,
   "metadata": {
    "collapsed": false
   },
   "outputs": [],
   "source": [
    "import collections\n",
    "import random\n",
    "\n",
    "import numpy as np\n",
    "import tables\n",
    "\n",
    "%matplotlib inline\n",
    "from matplotlib import pyplot as plt"
   ]
  },
  {
   "cell_type": "code",
   "execution_count": 2,
   "metadata": {
    "collapsed": true
   },
   "outputs": [],
   "source": [
    "parents = [['AD0231-C', 'AD0232-C'], ['AD0254-C', 'AD0255-C'],\n",
    "           ['AD0305-C', 'AD0306-C'], ['AD0347-C', 'AD0348-C']]\n",
    "\n",
    "crosses_3L_h5 = '../raw/crosses-3L.h5'"
   ]
  },
  {
   "cell_type": "code",
   "execution_count": 3,
   "metadata": {
    "collapsed": false
   },
   "outputs": [],
   "source": [
    "def get_offspring_range(parents, all_parents, samples):\n",
    "    my_index = samples.index(parents[1])\n",
    "    start = my_index + 1\n",
    "    parents_position = all_parents.index(parents)\n",
    "    if  parents_position == len(all_parents) - 1:\n",
    "        end = len(samples)\n",
    "    else:\n",
    "        end = samples.index(all_parents[parents_position + 1][0])\n",
    "    return start, end"
   ]
  },
  {
   "cell_type": "code",
   "execution_count": 4,
   "metadata": {
    "collapsed": true
   },
   "outputs": [],
   "source": [
    "store_3L = tables.open_file(crosses_3L_h5, 'r')"
   ]
  },
  {
   "cell_type": "code",
   "execution_count": 5,
   "metadata": {
    "collapsed": false
   },
   "outputs": [],
   "source": [
    "samples = [x.decode('utf-8') for x in store_3L.get_node('/3L/samples').read()]"
   ]
  },
  {
   "cell_type": "code",
   "execution_count": 6,
   "metadata": {
    "collapsed": true
   },
   "outputs": [],
   "source": [
    "def compute_medelian_errors(parents, offspring):\n",
    "    #autosome only\n",
    "    mo_alleles = set(parents[0])\n",
    "    fa_alleles = set(parents[1])\n",
    "    if set([-1]) in [mo_alleles, fa_alleles]:\n",
    "        return\n",
    "    if len(mo_alleles) == 2 and len(fa_alleles) == 2:\n",
    "        #Both HZ, this case it not trivial\n",
    "        return\n",
    "    cnt = cnt_mo = cnt_fa = total = 0\n",
    "    for ofs in offspring:\n",
    "        my_alleles = set(ofs)\n",
    "        if set(ofs) == set([-1]):\n",
    "            continue\n",
    "        total += 1\n",
    "        if len(my_alleles & mo_alleles) == 0:\n",
    "            cnt += 1\n",
    "            cnt_mo += 1\n",
    "        if len(my_alleles & fa_alleles) == 0:\n",
    "            cnt += 1\n",
    "            cnt_fa += 1\n",
    "        # Ofspring has more alleles (hz) than parents\n",
    "        if len(my_alleles) > len(fa_alleles | mo_alleles):\n",
    "            cnt += 1\n",
    "    return total, cnt, cnt_mo, cnt_fa\n",
    "#discuss probs of 01 01 01 01 01 if both parents hz"
   ]
  },
  {
   "cell_type": "code",
   "execution_count": 7,
   "metadata": {
    "collapsed": true
   },
   "outputs": [],
   "source": [
    "poses = store_3L.get_node('/3L/variants/POS').read()\n",
    "num_alleles = store_3L.get_node('/3L/variants/num_alleles').read()\n",
    "genotypes = store_3L.get_node('/3L/calldata/genotype').read() #"
   ]
  },
  {
   "cell_type": "code",
   "execution_count": 8,
   "metadata": {
    "collapsed": false
   },
   "outputs": [],
   "source": [
    "my_parents = parents[0]\n",
    "ofs_mo = samples.index(my_parents[0])\n",
    "ofs_fa = samples.index(my_parents[1])\n",
    "ofs_start, ofs_end = get_offspring_range(my_parents, parents, samples)\n",
    "\n",
    "i = 0\n",
    "mendel_results = []\n",
    "for pos, na, genotype in zip(poses, num_alleles, genotypes):\n",
    "    if random.randint(0, 100) < 90:\n",
    "        continue\n",
    "    if na != 2:\n",
    "        continue\n",
    "    i += 1\n",
    "    mo_alleles = genotype[ofs_mo,:]\n",
    "    fa_alleles = genotype[ofs_fa,:]\n",
    "    ofs_alleles = genotype[ofs_start:ofs_end,:]\n",
    "    errors = compute_medelian_errors([mo_alleles, fa_alleles], ofs_alleles)\n",
    "    mendel_results.append((pos, errors))\n",
    "    #print(mo_alleles, fa_alleles, ofs_alleles)\n",
    "    #if i == 100:\n",
    "    #    break\n",
    "\n",
    "del genotypes"
   ]
  },
  {
   "cell_type": "code",
   "execution_count": 17,
   "metadata": {
    "collapsed": false
   },
   "outputs": [
    {
     "data": {
      "text/plain": [
       "(264112, 237445, 32222)"
      ]
     },
     "execution_count": 17,
     "metadata": {},
     "output_type": "execute_result"
    }
   ],
   "source": [
    "usable = [pos for pos, errors in mendel_results if errors is not None]\n",
    "which_errors = collections.OrderedDict()\n",
    "for pos, errors in mendel_results:\n",
    "    if errors is not None and errors[1] > 0:\n",
    "        which_errors[pos] = errors\n",
    "{pos: errors for pos, errors in mendel_results }\n",
    "has_errors = list(which_errors.keys())\n",
    "len(mendel_results), len(usable), len(has_errors)\n",
    "#under estimation"
   ]
  },
  {
   "cell_type": "code",
   "execution_count": 18,
   "metadata": {
    "collapsed": false
   },
   "outputs": [
    {
     "data": {
      "text/plain": [
       "[<matplotlib.lines.Line2D at 0x7f37fcd819e8>]"
      ]
     },
     "execution_count": 18,
     "metadata": {},
     "output_type": "execute_result"
    },
    {
     "data": {
      "image/png": "[encoded data removed]",
      "text/plain": [
       "<matplotlib.figure.Figure at 0x7f37fcb40908>"
      ]
     },
     "metadata": {},
     "output_type": "display_data"
    }
   ],
   "source": [
    "x, y = zip(*((error[0], error[1][1]) for error in which_errors))\n",
    "plt.plot(x, y, '.')"
   ]
  },
  {
   "cell_type": "code",
   "execution_count": 19,
   "metadata": {
    "collapsed": false
   },
   "outputs": [],
   "source": [
    "window_size = 250000\n",
    "max_pos = usable[-1]\n",
    "num_bins = max_pos // window_size + 1\n",
    "wins = [[0, 0] for x in range(num_bins)]\n",
    "for pos in usable:\n",
    "    wins[pos // window_size][0] += 1\n",
    "for pos_err in which_errors:\n",
    "    pos = pos_err[0]\n",
    "    wins[pos // window_size][1] += 1\n",
    "frac_errors = [errs / poses for poses, errs in wins]"
   ]
  },
  {
   "cell_type": "code",
   "execution_count": 12,
   "metadata": {
    "collapsed": false
   },
   "outputs": [
    {
     "data": {
      "text/plain": [
       "[<matplotlib.lines.Line2D at 0x7f37fcb7a7b8>]"
      ]
     },
     "execution_count": 12,
     "metadata": {},
     "output_type": "execute_result"
    },
    {
     "data": {
      "image/png": "[encoded data removed]",
      "text/plain": [
       "<matplotlib.figure.Figure at 0x7f37fcc0fef0>"
      ]
     },
     "metadata": {},
     "output_type": "display_data"
    }
   ],
   "source": [
    "plt.plot(frac_errors, '.')"
   ]
  },
  {
   "cell_type": "code",
   "execution_count": 13,
   "metadata": {
    "collapsed": false
   },
   "outputs": [
    {
     "name": "stdout",
     "output_type": "stream",
     "text": [
      "/3L/variants/AC (EArray(2501730,), shuffle, zlib(1)) ''\n",
      "/3L/variants/AF (EArray(2501730,), shuffle, zlib(1)) ''\n",
      "/3L/variants/ALT (EArray(2501730,), shuffle, zlib(1)) ''\n",
      "/3L/variants/AN (EArray(2501730,), shuffle, zlib(1)) ''\n",
      "/3L/variants/ANN (EArray(2501730,), shuffle, zlib(1)) ''\n",
      "/3L/variants/Accessible (EArray(2501730,), shuffle, zlib(1)) ''\n",
      "/3L/variants/BaseCounts (EArray(2501730, 4), shuffle, zlib(1)) ''\n",
      "/3L/variants/BaseQRankSum (EArray(2501730,), shuffle, zlib(1)) ''\n",
      "/3L/variants/CHROM (EArray(2501730,), shuffle, zlib(1)) ''\n",
      "/3L/variants/ClippingRankSum (EArray(2501730,), shuffle, zlib(1)) ''\n",
      "/3L/variants/Coverage (EArray(2501730,), shuffle, zlib(1)) ''\n",
      "/3L/variants/CoverageMQ0 (EArray(2501730,), shuffle, zlib(1)) ''\n",
      "/3L/variants/DP (EArray(2501730,), shuffle, zlib(1)) ''\n",
      "/3L/variants/DS (EArray(2501730,), shuffle, zlib(1)) ''\n",
      "/3L/variants/Dels (EArray(2501730,), shuffle, zlib(1)) ''\n",
      "/3L/variants/FILTER_LowQual (EArray(2501730,), shuffle, zlib(1)) ''\n",
      "/3L/variants/FILTER_PASS (EArray(2501730,), shuffle, zlib(1)) ''\n",
      "/3L/variants/FS (EArray(2501730,), shuffle, zlib(1)) ''\n",
      "/3L/variants/HRun (EArray(2501730,), shuffle, zlib(1)) ''\n",
      "/3L/variants/HaplotypeScore (EArray(2501730,), shuffle, zlib(1)) ''\n",
      "/3L/variants/HighCoverage (EArray(2501730,), shuffle, zlib(1)) ''\n",
      "/3L/variants/HighMQ0 (EArray(2501730,), shuffle, zlib(1)) ''\n",
      "/3L/variants/ID (EArray(2501730,), shuffle, zlib(1)) ''\n",
      "/3L/variants/InbreedingCoeff (EArray(2501730,), shuffle, zlib(1)) ''\n",
      "/3L/variants/IndelType (EArray(2501730,), shuffle, zlib(1)) ''\n",
      "/3L/variants/LOF (EArray(2501730,), shuffle, zlib(1)) ''\n",
      "/3L/variants/LowCoverage (EArray(2501730,), shuffle, zlib(1)) ''\n",
      "/3L/variants/LowMQ (EArray(2501730, 3), shuffle, zlib(1)) ''\n",
      "/3L/variants/LowPairing (EArray(2501730,), shuffle, zlib(1)) ''\n",
      "/3L/variants/MLEAC (EArray(2501730,), shuffle, zlib(1)) ''\n",
      "/3L/variants/MLEAF (EArray(2501730,), shuffle, zlib(1)) ''\n",
      "/3L/variants/MQ (EArray(2501730,), shuffle, zlib(1)) ''\n",
      "/3L/variants/MQ0 (EArray(2501730,), shuffle, zlib(1)) ''\n",
      "/3L/variants/MQ0Fraction (EArray(2501730,), shuffle, zlib(1)) ''\n",
      "/3L/variants/MQRankSum (EArray(2501730,), shuffle, zlib(1)) ''\n",
      "/3L/variants/NMD (EArray(2501730,), shuffle, zlib(1)) ''\n",
      "/3L/variants/NoCoverage (EArray(2501730,), shuffle, zlib(1)) ''\n",
      "/3L/variants/POS (EArray(2501730,), shuffle, zlib(1)) ''\n",
      "/3L/variants/QD (EArray(2501730,), shuffle, zlib(1)) ''\n",
      "/3L/variants/QUAL (EArray(2501730,), shuffle, zlib(1)) ''\n",
      "/3L/variants/REF (EArray(2501730,), shuffle, zlib(1)) ''\n",
      "/3L/variants/RPA (EArray(2501730,), shuffle, zlib(1)) ''\n",
      "/3L/variants/RU (EArray(2501730,), shuffle, zlib(1)) ''\n",
      "/3L/variants/ReadPosRankSum (EArray(2501730,), shuffle, zlib(1)) ''\n",
      "/3L/variants/RefMasked (EArray(2501730,), shuffle, zlib(1)) ''\n",
      "/3L/variants/RefN (EArray(2501730,), shuffle, zlib(1)) ''\n",
      "/3L/variants/RepeatDUST (EArray(2501730,), shuffle, zlib(1)) ''\n",
      "/3L/variants/RepeatMasker (EArray(2501730,), shuffle, zlib(1)) ''\n",
      "/3L/variants/RepeatTRF (EArray(2501730,), shuffle, zlib(1)) ''\n",
      "/3L/variants/STR (EArray(2501730,), shuffle, zlib(1)) ''\n",
      "/3L/variants/Samples (EArray(2501730,), shuffle, zlib(1)) ''\n",
      "/3L/variants/is_snp (EArray(2501730,), shuffle, zlib(1)) ''\n",
      "/3L/variants/num_alleles (EArray(2501730,), shuffle, zlib(1)) ''\n",
      "/3L/variants/svlen (EArray(2501730,), shuffle, zlib(1)) ''\n"
     ]
    }
   ],
   "source": [
    "for entry in store_3L.get_node('/3L/variants'):\n",
    "    print(entry)"
   ]
  },
  {
   "cell_type": "code",
   "execution_count": 28,
   "metadata": {
    "collapsed": true
   },
   "outputs": [],
   "source": [
    "annotations = ['AC', 'AF', 'AN', 'Coverage', 'DP', 'HRun', 'HaplotypeScore', 'InbreedingCoeff',\n",
    "              'MLEAC', 'MQ', 'QD', 'QUAL']"
   ]
  },
  {
   "cell_type": "code",
   "execution_count": 33,
   "metadata": {
    "collapsed": false
   },
   "outputs": [
    {
     "name": "stdout",
     "output_type": "stream",
     "text": [
      "AC\n",
      "AF\n",
      "AN\n",
      "Coverage\n",
      "DP\n",
      "HRun\n",
      "HaplotypeScore\n",
      "InbreedingCoeff\n",
      "MLEAC\n",
      "MQ\n",
      "QD\n",
      "QUAL\n"
     ]
    }
   ],
   "source": [
    "train_set = []\n",
    "train_Y = []\n",
    "#This is silly (memory-wise)\n",
    "annot_dict = {}\n",
    "for annotation in annotations:\n",
    "    print(annotation)\n",
    "    annot_dict[annotation] = store_3L.get_node('/3L/variants/%s' % annotation).read()\n",
    "\n",
    "for i, pos in enumerate(poses):\n",
    "    if random.randint(0, 100) > 1:\n",
    "        continue\n",
    "    if pos not in has_errors:\n",
    "        # We throw away 90% of good positions\n",
    "        if random.randint(0, 100) > 1:\n",
    "            continue\n",
    "    my_entry = []\n",
    "    for annotation in annotations:\n",
    "        my_entry.append(annot_dict[annotation][i])\n",
    "    train_set.append(my_entry)\n",
    "    train_Y.append(1 if pos in has_errors else 0)\n",
    "                                              "
   ]
  },
  {
   "cell_type": "code",
   "execution_count": 34,
   "metadata": {
    "collapsed": false
   },
   "outputs": [
    {
     "data": {
      "text/plain": [
       "(2501729, 1728)"
      ]
     },
     "execution_count": 34,
     "metadata": {},
     "output_type": "execute_result"
    }
   ],
   "source": [
    "i, len(train_set)"
   ]
  },
  {
   "cell_type": "code",
   "execution_count": 14,
   "metadata": {
    "collapsed": false
   },
   "outputs": [
    {
     "data": {
      "text/plain": [
       "File(filename=../raw/crosses-3L.h5, title='', mode='r', root_uep='/', filters=Filters(complevel=0, shuffle=False, fletcher32=False, least_significant_digit=None))\n",
       "/ (RootGroup) ''\n",
       "/3L (Group) ''\n",
       "/3L/samples (Array(80,)) ''\n",
       "  atom := StringAtom(itemsize=8, shape=(), dflt=b'')\n",
       "  maindim := 0\n",
       "  flavor := 'numpy'\n",
       "  byteorder := 'irrelevant'\n",
       "  chunkshape := None\n",
       "/3L/calldata (Group) ''\n",
       "/3L/calldata/AD (EArray(2501730, 80, 2), shuffle, zlib(1)) ''\n",
       "  atom := UInt16Atom(shape=(), dflt=0)\n",
       "  maindim := 0\n",
       "  flavor := 'numpy'\n",
       "  byteorder := 'little'\n",
       "  chunkshape := (3276, 10, 2)\n",
       "/3L/calldata/DP (EArray(2501730, 80), shuffle, zlib(1)) ''\n",
       "  atom := UInt16Atom(shape=(), dflt=0)\n",
       "  maindim := 0\n",
       "  flavor := 'numpy'\n",
       "  byteorder := 'little'\n",
       "  chunkshape := (6553, 10)\n",
       "/3L/calldata/GQ (EArray(2501730, 80), shuffle, zlib(1)) ''\n",
       "  atom := UInt8Atom(shape=(), dflt=0)\n",
       "  maindim := 0\n",
       "  flavor := 'numpy'\n",
       "  byteorder := 'irrelevant'\n",
       "  chunkshape := (13107, 10)\n",
       "/3L/calldata/GT (EArray(2501730, 80), shuffle, zlib(1)) ''\n",
       "  atom := StringAtom(itemsize=3, shape=(), dflt=b'')\n",
       "  maindim := 0\n",
       "  flavor := 'numpy'\n",
       "  byteorder := 'irrelevant'\n",
       "  chunkshape := (4369, 10)\n",
       "/3L/calldata/MQ0 (EArray(2501730, 80), shuffle, zlib(1)) ''\n",
       "  atom := UInt16Atom(shape=(), dflt=0)\n",
       "  maindim := 0\n",
       "  flavor := 'numpy'\n",
       "  byteorder := 'little'\n",
       "  chunkshape := (6553, 10)\n",
       "/3L/calldata/PL (EArray(2501730, 80, 3), shuffle, zlib(1)) ''\n",
       "  atom := UInt16Atom(shape=(), dflt=0)\n",
       "  maindim := 0\n",
       "  flavor := 'numpy'\n",
       "  byteorder := 'little'\n",
       "  chunkshape := (2184, 10, 3)\n",
       "/3L/calldata/genotype (EArray(2501730, 80, 2), shuffle, zlib(1)) ''\n",
       "  atom := Int8Atom(shape=(), dflt=0)\n",
       "  maindim := 0\n",
       "  flavor := 'numpy'\n",
       "  byteorder := 'irrelevant'\n",
       "  chunkshape := (6553, 10, 2)\n",
       "/3L/calldata/is_called (EArray(2501730, 80), shuffle, zlib(1)) ''\n",
       "  atom := EnumAtom(enum=Enum({'TRUE': 1, 'FALSE': 0}), dflt='TRUE', base=Int8Atom(shape=(), dflt=0), shape=())\n",
       "  maindim := 0\n",
       "  flavor := 'numpy'\n",
       "  byteorder := 'little'\n",
       "  chunkshape := (13107, 10)\n",
       "/3L/calldata/is_phased (EArray(2501730, 80), shuffle, zlib(1)) ''\n",
       "  atom := EnumAtom(enum=Enum({'TRUE': 1, 'FALSE': 0}), dflt='TRUE', base=Int8Atom(shape=(), dflt=0), shape=())\n",
       "  maindim := 0\n",
       "  flavor := 'numpy'\n",
       "  byteorder := 'little'\n",
       "  chunkshape := (13107, 10)\n",
       "/3L/variants (Group) ''\n",
       "/3L/variants/AC (EArray(2501730,), shuffle, zlib(1)) ''\n",
       "  atom := UInt16Atom(shape=(), dflt=0)\n",
       "  maindim := 0\n",
       "  flavor := 'numpy'\n",
       "  byteorder := 'little'\n",
       "  chunkshape := (65536,)\n",
       "/3L/variants/AF (EArray(2501730,), shuffle, zlib(1)) ''\n",
       "  atom := Float16Atom(shape=(), dflt=0.0)\n",
       "  maindim := 0\n",
       "  flavor := 'numpy'\n",
       "  byteorder := 'little'\n",
       "  chunkshape := (65536,)\n",
       "/3L/variants/ALT (EArray(2501730,), shuffle, zlib(1)) ''\n",
       "  atom := StringAtom(itemsize=12, shape=(), dflt=b'')\n",
       "  maindim := 0\n",
       "  flavor := 'numpy'\n",
       "  byteorder := 'irrelevant'\n",
       "  chunkshape := (10922,)\n",
       "/3L/variants/AN (EArray(2501730,), shuffle, zlib(1)) ''\n",
       "  atom := UInt16Atom(shape=(), dflt=0)\n",
       "  maindim := 0\n",
       "  flavor := 'numpy'\n",
       "  byteorder := 'little'\n",
       "  chunkshape := (65536,)\n",
       "/3L/variants/ANN (EArray(2501730,), shuffle, zlib(1)) ''\n",
       "  atom := StringAtom(itemsize=12, shape=(), dflt=b'')\n",
       "  maindim := 0\n",
       "  flavor := 'numpy'\n",
       "  byteorder := 'irrelevant'\n",
       "  chunkshape := (10922,)\n",
       "/3L/variants/Accessible (EArray(2501730,), shuffle, zlib(1)) ''\n",
       "  atom := EnumAtom(enum=Enum({'TRUE': 1, 'FALSE': 0}), dflt='TRUE', base=Int8Atom(shape=(), dflt=0), shape=())\n",
       "  maindim := 0\n",
       "  flavor := 'numpy'\n",
       "  byteorder := 'little'\n",
       "  chunkshape := (131072,)\n",
       "/3L/variants/BaseCounts (EArray(2501730, 4), shuffle, zlib(1)) ''\n",
       "  atom := Int32Atom(shape=(), dflt=0)\n",
       "  maindim := 0\n",
       "  flavor := 'numpy'\n",
       "  byteorder := 'little'\n",
       "  chunkshape := (8192, 4)\n",
       "/3L/variants/BaseQRankSum (EArray(2501730,), shuffle, zlib(1)) ''\n",
       "  atom := Float16Atom(shape=(), dflt=0.0)\n",
       "  maindim := 0\n",
       "  flavor := 'numpy'\n",
       "  byteorder := 'little'\n",
       "  chunkshape := (65536,)\n",
       "/3L/variants/CHROM (EArray(2501730,), shuffle, zlib(1)) ''\n",
       "  atom := StringAtom(itemsize=12, shape=(), dflt=b'')\n",
       "  maindim := 0\n",
       "  flavor := 'numpy'\n",
       "  byteorder := 'irrelevant'\n",
       "  chunkshape := (10922,)\n",
       "/3L/variants/ClippingRankSum (EArray(2501730,), shuffle, zlib(1)) ''\n",
       "  atom := Float16Atom(shape=(), dflt=0.0)\n",
       "  maindim := 0\n",
       "  flavor := 'numpy'\n",
       "  byteorder := 'little'\n",
       "  chunkshape := (65536,)\n",
       "/3L/variants/Coverage (EArray(2501730,), shuffle, zlib(1)) ''\n",
       "  atom := Int32Atom(shape=(), dflt=0)\n",
       "  maindim := 0\n",
       "  flavor := 'numpy'\n",
       "  byteorder := 'little'\n",
       "  chunkshape := (32768,)\n",
       "/3L/variants/CoverageMQ0 (EArray(2501730,), shuffle, zlib(1)) ''\n",
       "  atom := Int32Atom(shape=(), dflt=0)\n",
       "  maindim := 0\n",
       "  flavor := 'numpy'\n",
       "  byteorder := 'little'\n",
       "  chunkshape := (32768,)\n",
       "/3L/variants/DP (EArray(2501730,), shuffle, zlib(1)) ''\n",
       "  atom := Int32Atom(shape=(), dflt=0)\n",
       "  maindim := 0\n",
       "  flavor := 'numpy'\n",
       "  byteorder := 'little'\n",
       "  chunkshape := (32768,)\n",
       "/3L/variants/DS (EArray(2501730,), shuffle, zlib(1)) ''\n",
       "  atom := EnumAtom(enum=Enum({'TRUE': 1, 'FALSE': 0}), dflt='TRUE', base=Int8Atom(shape=(), dflt=0), shape=())\n",
       "  maindim := 0\n",
       "  flavor := 'numpy'\n",
       "  byteorder := 'little'\n",
       "  chunkshape := (131072,)\n",
       "/3L/variants/Dels (EArray(2501730,), shuffle, zlib(1)) ''\n",
       "  atom := Float16Atom(shape=(), dflt=0.0)\n",
       "  maindim := 0\n",
       "  flavor := 'numpy'\n",
       "  byteorder := 'little'\n",
       "  chunkshape := (65536,)\n",
       "/3L/variants/FILTER_LowQual (EArray(2501730,), shuffle, zlib(1)) ''\n",
       "  atom := EnumAtom(enum=Enum({'TRUE': 1, 'FALSE': 0}), dflt='TRUE', base=Int8Atom(shape=(), dflt=0), shape=())\n",
       "  maindim := 0\n",
       "  flavor := 'numpy'\n",
       "  byteorder := 'little'\n",
       "  chunkshape := (131072,)\n",
       "/3L/variants/FILTER_PASS (EArray(2501730,), shuffle, zlib(1)) ''\n",
       "  atom := EnumAtom(enum=Enum({'TRUE': 1, 'FALSE': 0}), dflt='TRUE', base=Int8Atom(shape=(), dflt=0), shape=())\n",
       "  maindim := 0\n",
       "  flavor := 'numpy'\n",
       "  byteorder := 'little'\n",
       "  chunkshape := (131072,)\n",
       "/3L/variants/FS (EArray(2501730,), shuffle, zlib(1)) ''\n",
       "  atom := Float16Atom(shape=(), dflt=0.0)\n",
       "  maindim := 0\n",
       "  flavor := 'numpy'\n",
       "  byteorder := 'little'\n",
       "  chunkshape := (65536,)\n",
       "/3L/variants/HRun (EArray(2501730,), shuffle, zlib(1)) ''\n",
       "  atom := UInt8Atom(shape=(), dflt=0)\n",
       "  maindim := 0\n",
       "  flavor := 'numpy'\n",
       "  byteorder := 'irrelevant'\n",
       "  chunkshape := (131072,)\n",
       "/3L/variants/HaplotypeScore (EArray(2501730,), shuffle, zlib(1)) ''\n",
       "  atom := Float16Atom(shape=(), dflt=0.0)\n",
       "  maindim := 0\n",
       "  flavor := 'numpy'\n",
       "  byteorder := 'little'\n",
       "  chunkshape := (65536,)\n",
       "/3L/variants/HighCoverage (EArray(2501730,), shuffle, zlib(1)) ''\n",
       "  atom := Int32Atom(shape=(), dflt=0)\n",
       "  maindim := 0\n",
       "  flavor := 'numpy'\n",
       "  byteorder := 'little'\n",
       "  chunkshape := (32768,)\n",
       "/3L/variants/HighMQ0 (EArray(2501730,), shuffle, zlib(1)) ''\n",
       "  atom := Int32Atom(shape=(), dflt=0)\n",
       "  maindim := 0\n",
       "  flavor := 'numpy'\n",
       "  byteorder := 'little'\n",
       "  chunkshape := (32768,)\n",
       "/3L/variants/ID (EArray(2501730,), shuffle, zlib(1)) ''\n",
       "  atom := StringAtom(itemsize=12, shape=(), dflt=b'')\n",
       "  maindim := 0\n",
       "  flavor := 'numpy'\n",
       "  byteorder := 'irrelevant'\n",
       "  chunkshape := (10922,)\n",
       "/3L/variants/InbreedingCoeff (EArray(2501730,), shuffle, zlib(1)) ''\n",
       "  atom := Float16Atom(shape=(), dflt=0.0)\n",
       "  maindim := 0\n",
       "  flavor := 'numpy'\n",
       "  byteorder := 'little'\n",
       "  chunkshape := (65536,)\n",
       "/3L/variants/IndelType (EArray(2501730,), shuffle, zlib(1)) ''\n",
       "  atom := StringAtom(itemsize=12, shape=(), dflt=b'')\n",
       "  maindim := 0\n",
       "  flavor := 'numpy'\n",
       "  byteorder := 'irrelevant'\n",
       "  chunkshape := (10922,)\n",
       "/3L/variants/LOF (EArray(2501730,), shuffle, zlib(1)) ''\n",
       "  atom := StringAtom(itemsize=12, shape=(), dflt=b'')\n",
       "  maindim := 0\n",
       "  flavor := 'numpy'\n",
       "  byteorder := 'irrelevant'\n",
       "  chunkshape := (10922,)\n",
       "/3L/variants/LowCoverage (EArray(2501730,), shuffle, zlib(1)) ''\n",
       "  atom := Int32Atom(shape=(), dflt=0)\n",
       "  maindim := 0\n",
       "  flavor := 'numpy'\n",
       "  byteorder := 'little'\n",
       "  chunkshape := (32768,)\n",
       "/3L/variants/LowMQ (EArray(2501730, 3), shuffle, zlib(1)) ''\n",
       "  atom := Float32Atom(shape=(), dflt=0.0)\n",
       "  maindim := 0\n",
       "  flavor := 'numpy'\n",
       "  byteorder := 'little'\n",
       "  chunkshape := (10922, 3)\n",
       "/3L/variants/LowPairing (EArray(2501730,), shuffle, zlib(1)) ''\n",
       "  atom := Int32Atom(shape=(), dflt=0)\n",
       "  maindim := 0\n",
       "  flavor := 'numpy'\n",
       "  byteorder := 'little'\n",
       "  chunkshape := (32768,)\n",
       "/3L/variants/MLEAC (EArray(2501730,), shuffle, zlib(1)) ''\n",
       "  atom := UInt16Atom(shape=(), dflt=0)\n",
       "  maindim := 0\n",
       "  flavor := 'numpy'\n",
       "  byteorder := 'little'\n",
       "  chunkshape := (65536,)\n",
       "/3L/variants/MLEAF (EArray(2501730,), shuffle, zlib(1)) ''\n",
       "  atom := Float16Atom(shape=(), dflt=0.0)\n",
       "  maindim := 0\n",
       "  flavor := 'numpy'\n",
       "  byteorder := 'little'\n",
       "  chunkshape := (65536,)\n",
       "/3L/variants/MQ (EArray(2501730,), shuffle, zlib(1)) ''\n",
       "  atom := Float16Atom(shape=(), dflt=0.0)\n",
       "  maindim := 0\n",
       "  flavor := 'numpy'\n",
       "  byteorder := 'little'\n",
       "  chunkshape := (65536,)\n",
       "/3L/variants/MQ0 (EArray(2501730,), shuffle, zlib(1)) ''\n",
       "  atom := Int32Atom(shape=(), dflt=0)\n",
       "  maindim := 0\n",
       "  flavor := 'numpy'\n",
       "  byteorder := 'little'\n",
       "  chunkshape := (32768,)\n",
       "/3L/variants/MQ0Fraction (EArray(2501730,), shuffle, zlib(1)) ''\n",
       "  atom := Float16Atom(shape=(), dflt=0.0)\n",
       "  maindim := 0\n",
       "  flavor := 'numpy'\n",
       "  byteorder := 'little'\n",
       "  chunkshape := (65536,)\n",
       "/3L/variants/MQRankSum (EArray(2501730,), shuffle, zlib(1)) ''\n",
       "  atom := Float16Atom(shape=(), dflt=0.0)\n",
       "  maindim := 0\n",
       "  flavor := 'numpy'\n",
       "  byteorder := 'little'\n",
       "  chunkshape := (65536,)\n",
       "/3L/variants/NMD (EArray(2501730,), shuffle, zlib(1)) ''\n",
       "  atom := StringAtom(itemsize=12, shape=(), dflt=b'')\n",
       "  maindim := 0\n",
       "  flavor := 'numpy'\n",
       "  byteorder := 'irrelevant'\n",
       "  chunkshape := (10922,)\n",
       "/3L/variants/NoCoverage (EArray(2501730,), shuffle, zlib(1)) ''\n",
       "  atom := Int32Atom(shape=(), dflt=0)\n",
       "  maindim := 0\n",
       "  flavor := 'numpy'\n",
       "  byteorder := 'little'\n",
       "  chunkshape := (32768,)\n",
       "/3L/variants/POS (EArray(2501730,), shuffle, zlib(1)) ''\n",
       "  atom := Int32Atom(shape=(), dflt=0)\n",
       "  maindim := 0\n",
       "  flavor := 'numpy'\n",
       "  byteorder := 'little'\n",
       "  chunkshape := (32768,)\n",
       "/3L/variants/QD (EArray(2501730,), shuffle, zlib(1)) ''\n",
       "  atom := Float16Atom(shape=(), dflt=0.0)\n",
       "  maindim := 0\n",
       "  flavor := 'numpy'\n",
       "  byteorder := 'little'\n",
       "  chunkshape := (65536,)\n",
       "/3L/variants/QUAL (EArray(2501730,), shuffle, zlib(1)) ''\n",
       "  atom := Float32Atom(shape=(), dflt=0.0)\n",
       "  maindim := 0\n",
       "  flavor := 'numpy'\n",
       "  byteorder := 'little'\n",
       "  chunkshape := (32768,)\n",
       "/3L/variants/REF (EArray(2501730,), shuffle, zlib(1)) ''\n",
       "  atom := StringAtom(itemsize=12, shape=(), dflt=b'')\n",
       "  maindim := 0\n",
       "  flavor := 'numpy'\n",
       "  byteorder := 'irrelevant'\n",
       "  chunkshape := (10922,)\n",
       "/3L/variants/RPA (EArray(2501730,), shuffle, zlib(1)) ''\n",
       "  atom := UInt16Atom(shape=(), dflt=0)\n",
       "  maindim := 0\n",
       "  flavor := 'numpy'\n",
       "  byteorder := 'little'\n",
       "  chunkshape := (65536,)\n",
       "/3L/variants/RU (EArray(2501730,), shuffle, zlib(1)) ''\n",
       "  atom := StringAtom(itemsize=12, shape=(), dflt=b'')\n",
       "  maindim := 0\n",
       "  flavor := 'numpy'\n",
       "  byteorder := 'irrelevant'\n",
       "  chunkshape := (10922,)\n",
       "/3L/variants/ReadPosRankSum (EArray(2501730,), shuffle, zlib(1)) ''\n",
       "  atom := Float16Atom(shape=(), dflt=0.0)\n",
       "  maindim := 0\n",
       "  flavor := 'numpy'\n",
       "  byteorder := 'little'\n",
       "  chunkshape := (65536,)\n",
       "/3L/variants/RefMasked (EArray(2501730,), shuffle, zlib(1)) ''\n",
       "  atom := EnumAtom(enum=Enum({'TRUE': 1, 'FALSE': 0}), dflt='TRUE', base=Int8Atom(shape=(), dflt=0), shape=())\n",
       "  maindim := 0\n",
       "  flavor := 'numpy'\n",
       "  byteorder := 'little'\n",
       "  chunkshape := (131072,)\n",
       "/3L/variants/RefN (EArray(2501730,), shuffle, zlib(1)) ''\n",
       "  atom := EnumAtom(enum=Enum({'TRUE': 1, 'FALSE': 0}), dflt='TRUE', base=Int8Atom(shape=(), dflt=0), shape=())\n",
       "  maindim := 0\n",
       "  flavor := 'numpy'\n",
       "  byteorder := 'little'\n",
       "  chunkshape := (131072,)\n",
       "/3L/variants/RepeatDUST (EArray(2501730,), shuffle, zlib(1)) ''\n",
       "  atom := EnumAtom(enum=Enum({'TRUE': 1, 'FALSE': 0}), dflt='TRUE', base=Int8Atom(shape=(), dflt=0), shape=())\n",
       "  maindim := 0\n",
       "  flavor := 'numpy'\n",
       "  byteorder := 'little'\n",
       "  chunkshape := (131072,)\n",
       "/3L/variants/RepeatMasker (EArray(2501730,), shuffle, zlib(1)) ''\n",
       "  atom := EnumAtom(enum=Enum({'TRUE': 1, 'FALSE': 0}), dflt='TRUE', base=Int8Atom(shape=(), dflt=0), shape=())\n",
       "  maindim := 0\n",
       "  flavor := 'numpy'\n",
       "  byteorder := 'little'\n",
       "  chunkshape := (131072,)\n",
       "/3L/variants/RepeatTRF (EArray(2501730,), shuffle, zlib(1)) ''\n",
       "  atom := EnumAtom(enum=Enum({'TRUE': 1, 'FALSE': 0}), dflt='TRUE', base=Int8Atom(shape=(), dflt=0), shape=())\n",
       "  maindim := 0\n",
       "  flavor := 'numpy'\n",
       "  byteorder := 'little'\n",
       "  chunkshape := (131072,)\n",
       "/3L/variants/STR (EArray(2501730,), shuffle, zlib(1)) ''\n",
       "  atom := EnumAtom(enum=Enum({'TRUE': 1, 'FALSE': 0}), dflt='TRUE', base=Int8Atom(shape=(), dflt=0), shape=())\n",
       "  maindim := 0\n",
       "  flavor := 'numpy'\n",
       "  byteorder := 'little'\n",
       "  chunkshape := (131072,)\n",
       "/3L/variants/Samples (EArray(2501730,), shuffle, zlib(1)) ''\n",
       "  atom := StringAtom(itemsize=12, shape=(), dflt=b'')\n",
       "  maindim := 0\n",
       "  flavor := 'numpy'\n",
       "  byteorder := 'irrelevant'\n",
       "  chunkshape := (10922,)\n",
       "/3L/variants/is_snp (EArray(2501730,), shuffle, zlib(1)) ''\n",
       "  atom := EnumAtom(enum=Enum({'TRUE': 1, 'FALSE': 0}), dflt='TRUE', base=Int8Atom(shape=(), dflt=0), shape=())\n",
       "  maindim := 0\n",
       "  flavor := 'numpy'\n",
       "  byteorder := 'little'\n",
       "  chunkshape := (131072,)\n",
       "/3L/variants/num_alleles (EArray(2501730,), shuffle, zlib(1)) ''\n",
       "  atom := UInt8Atom(shape=(), dflt=0)\n",
       "  maindim := 0\n",
       "  flavor := 'numpy'\n",
       "  byteorder := 'irrelevant'\n",
       "  chunkshape := (131072,)\n",
       "/3L/variants/svlen (EArray(2501730,), shuffle, zlib(1)) ''\n",
       "  atom := Int32Atom(shape=(), dflt=0)\n",
       "  maindim := 0\n",
       "  flavor := 'numpy'\n",
       "  byteorder := 'little'\n",
       "  chunkshape := (32768,)"
      ]
     },
     "execution_count": 14,
     "metadata": {},
     "output_type": "execute_result"
    }
   ],
   "source": [
    "store_3L"
   ]
  },
  {
   "cell_type": "code",
   "execution_count": null,
   "metadata": {
    "collapsed": true
   },
   "outputs": [],
   "source": []
  }
 ],
 "metadata": {
  "kernelspec": {
   "display_name": "Python 3",
   "language": "python",
   "name": "python3"
  },
  "language_info": {
   "codemirror_mode": {
    "name": "ipython",
    "version": 3
   },
   "file_extension": ".py",
   "mimetype": "text/x-python",
   "name": "python",
   "nbconvert_exporter": "python",
   "pygments_lexer": "ipython3",
   "version": "3.5.2"
  }
 },
 "nbformat": 4,
 "nbformat_minor": 0
}
