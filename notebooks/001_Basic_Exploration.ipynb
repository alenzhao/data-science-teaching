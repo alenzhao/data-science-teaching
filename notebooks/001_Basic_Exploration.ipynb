{
 "cells": [
  {
   "cell_type": "code",
   "execution_count": 35,
   "metadata": {
    "collapsed": true
   },
   "outputs": [],
   "source": [
    "%matplotlib inline\n",
    "from collections import defaultdict\n",
    "import sys\n",
    "\n",
    "import numpy as np\n",
    "import tables\n",
    "import matplotlib.pyplot as plt\n",
    "import pandas as pd"
   ]
  },
  {
   "cell_type": "code",
   "execution_count": 2,
   "metadata": {
    "collapsed": true
   },
   "outputs": [],
   "source": [
    "fname = '../raw/total-3L.h5'"
   ]
  },
  {
   "cell_type": "code",
   "execution_count": 3,
   "metadata": {
    "collapsed": false
   },
   "outputs": [],
   "source": [
    "#store = pd.HDFStore(fname, 'r')\n",
    "store = tables.open_file(fname, 'r')"
   ]
  },
  {
   "cell_type": "code",
   "execution_count": 4,
   "metadata": {
    "collapsed": false
   },
   "outputs": [
    {
     "name": "stdout",
     "output_type": "stream",
     "text": [
      "/3L (Group) ''\n",
      "/3L/calldata (Group) ''\n",
      "/3L/samples (Array(765,)) ''\n",
      "/3L/variants (Group) ''\n"
     ]
    }
   ],
   "source": [
    "for n in store.get_node('/'):  # .root\n",
    "    print(n)\n",
    "for n in store.get_node('/3L'): # .3L\n",
    "    print(n)"
   ]
  },
  {
   "cell_type": "code",
   "execution_count": 5,
   "metadata": {
    "collapsed": false
   },
   "outputs": [
    {
     "name": "stdout",
     "output_type": "stream",
     "text": [
      "<class 'numpy.ndarray'>\n",
      "[b'AB0085-C' b'AB0087-C' b'AB0088-C' b'AB0089-C' b'AB0090-C' b'AB0091-C'\n",
      " b'AB0092-C' b'AB0094-C' b'AB0095-C' b'AB0097-C']\n"
     ]
    }
   ],
   "source": [
    "samples = store.get_node('/3L/samples').read()\n",
    "print(type(samples))\n",
    "print(samples[:10])"
   ]
  },
  {
   "cell_type": "code",
   "execution_count": 6,
   "metadata": {
    "collapsed": false
   },
   "outputs": [
    {
     "data": {
      "text/plain": [
       "41956556"
      ]
     },
     "execution_count": 6,
     "metadata": {},
     "output_type": "execute_result"
    }
   ],
   "source": [
    "call_data = store.get_node('/3L').calldata\n",
    "samples = store.get_node('/3L/samples')\n",
    "variants = store.get_node('/3L/variants')\n",
    "variants.POS[-1]"
   ]
  },
  {
   "cell_type": "code",
   "execution_count": 7,
   "metadata": {
    "collapsed": false
   },
   "outputs": [
    {
     "data": {
      "text/plain": [
       "array([b'AB0085-C', b'AB0087-C', b'AB0088-C', b'AB0089-C', b'AB0090-C',\n",
       "       b'AB0091-C', b'AB0092-C', b'AB0094-C', b'AB0095-C', b'AB0097-C'], \n",
       "      dtype='|S8')"
      ]
     },
     "execution_count": 7,
     "metadata": {},
     "output_type": "execute_result"
    }
   ],
   "source": [
    "samples[:10]"
   ]
  },
  {
   "cell_type": "code",
   "execution_count": 8,
   "metadata": {
    "collapsed": false
   },
   "outputs": [],
   "source": [
    "# store['/3L/variants/ANN']  # no no no!"
   ]
  },
  {
   "cell_type": "code",
   "execution_count": 9,
   "metadata": {
    "collapsed": false
   },
   "outputs": [],
   "source": [
    "# no no no\n",
    "#for rec in store['/3L/variants/ANN']:\n",
    "#    print(rec)\n",
    "#    break"
   ]
  },
  {
   "cell_type": "markdown",
   "metadata": {},
   "source": [
    "## Size of objects"
   ]
  },
  {
   "cell_type": "code",
   "execution_count": 10,
   "metadata": {
    "collapsed": false
   },
   "outputs": [],
   "source": [
    "annotations_np = variants.ANN.read()  # load time"
   ]
  },
  {
   "cell_type": "code",
   "execution_count": 11,
   "metadata": {
    "collapsed": false
   },
   "outputs": [
    {
     "name": "stdout",
     "output_type": "stream",
     "text": [
      "<class 'numpy.ndarray'>\n"
     ]
    },
    {
     "data": {
      "text/plain": [
       "(b'T', b'intergenic_region', b'MODIFIER', b'AGAP010310', b'AGAP010310', b'intergenic_region', b'AGAP010310', b'.', -1, b'.', b'.', -1, -1, -1, -1, -1, -1, -1)"
      ]
     },
     "execution_count": 11,
     "metadata": {},
     "output_type": "execute_result"
    }
   ],
   "source": [
    "print(type(annotations_np))\n",
    "annotations_np[0]"
   ]
  },
  {
   "cell_type": "code",
   "execution_count": 12,
   "metadata": {
    "collapsed": false
   },
   "outputs": [
    {
     "name": "stdout",
     "output_type": "stream",
     "text": [
      "<class 'tables.table.Table'>\n",
      "0\n",
      "(b'T', b'intergenic_region', b'MODIFIER', b'AGAP010310', b'AGAP010310', b'intergenic_region', b'AGAP010310', b'.', -1, b'.', b'.', -1, -1, -1, -1, -1, -1, -1)\n",
      "1\n",
      "(b'A', b'intergenic_region', b'MODIFIER', b'AGAP010310', b'AGAP010310', b'intergenic_region', b'AGAP010310', b'.', -1, b'.', b'.', -1, -1, -1, -1, -1, -1, -1)\n"
     ]
    }
   ],
   "source": [
    "ann = store.get_node('/3L/variants/ANN')\n",
    "print(type(ann))\n",
    "for i, rec in enumerate(ann):\n",
    "    print(rec.nrow)\n",
    "    print(rec.fetch_all_fields())\n",
    "    if i == 1:\n",
    "        break"
   ]
  },
  {
   "cell_type": "code",
   "execution_count": 13,
   "metadata": {
    "collapsed": false
   },
   "outputs": [
    {
     "name": "stdout",
     "output_type": "stream",
     "text": [
      "1841849959\n",
      "112\n",
      "1841849863\n",
      "47705417\n"
     ]
    }
   ],
   "source": [
    "#This is not very honest and a complex problem...\n",
    "print(sys.getsizeof(annotations_np))\n",
    "print(sys.getsizeof(ann))\n",
    "print(ann.size_in_memory)\n",
    "print(ann.size_on_disk)"
   ]
  },
  {
   "cell_type": "markdown",
   "metadata": {},
   "source": [
    "# Exploration"
   ]
  },
  {
   "cell_type": "markdown",
   "metadata": {},
   "source": [
    "## Number of markers"
   ]
  },
  {
   "cell_type": "markdown",
   "metadata": {},
   "source": [
    "#number of bi-allelic SNPs with all call data and"
   ]
  },
  {
   "cell_type": "code",
   "execution_count": 14,
   "metadata": {
    "collapsed": false
   },
   "outputs": [
    {
     "data": {
      "text/plain": [
       "(9643193,)"
      ]
     },
     "execution_count": 14,
     "metadata": {},
     "output_type": "execute_result"
    }
   ],
   "source": [
    "accessibility_array = store.get_node('/3L/variants/Accessible')\n",
    "accessibility_array.shape"
   ]
  },
  {
   "cell_type": "code",
   "execution_count": 15,
   "metadata": {
    "collapsed": true
   },
   "outputs": [],
   "source": [
    "alt_alleles = store.get_node('/3L/variants/AC')\n",
    "total_alleles = store.get_node('/3L/variants/AN')"
   ]
  },
  {
   "cell_type": "code",
   "execution_count": 16,
   "metadata": {
    "collapsed": false
   },
   "outputs": [
    {
     "name": "stdout",
     "output_type": "stream",
     "text": [
      "365952\n",
      "19286386\n"
     ]
    }
   ],
   "source": [
    "print(total_alleles.size_on_disk)\n",
    "print(total_alleles.size_in_memory)"
   ]
  },
  {
   "cell_type": "code",
   "execution_count": 17,
   "metadata": {
    "collapsed": false
   },
   "outputs": [
    {
     "name": "stdout",
     "output_type": "stream",
     "text": [
      "(9643193, 3)\n",
      "(9643193,)\n"
     ]
    }
   ],
   "source": [
    "print(alt_alleles.shape)\n",
    "print(total_alleles.shape)"
   ]
  },
  {
   "cell_type": "code",
   "execution_count": 21,
   "metadata": {
    "collapsed": false
   },
   "outputs": [
    {
     "data": {
      "text/plain": [
       "[<matplotlib.lines.Line2D at 0x7ff24ea9fda0>]"
      ]
     },
     "execution_count": 21,
     "metadata": {},
     "output_type": "execute_result"
    },
    {
     "data": {
      "image/png": "[encoded data removed]",
      "text/plain": [
       "<matplotlib.figure.Figure at 0x7ff24ea9fba8>"
      ]
     },
     "metadata": {},
     "output_type": "display_data"
    }
   ],
   "source": [
    "total_alleles_read = total_alleles.read()\n",
    "total_alleles_read.sort()"
   ]
  },
  {
   "cell_type": "code",
   "execution_count": 41,
   "metadata": {
    "collapsed": false
   },
   "outputs": [],
   "source": [
    "num_alts = [len(list(filter(lambda x: x>0, alts))) for alts in alt_alleles.iterrows()]"
   ]
  },
  {
   "cell_type": "code",
   "execution_count": 42,
   "metadata": {
    "collapsed": false
   },
   "outputs": [],
   "source": [
    "num_alts_count = [0, 0, 0]\n",
    "for num in num_alts:\n",
    "    num_alts_count[num - 1] += 1"
   ]
  },
  {
   "cell_type": "code",
   "execution_count": 43,
   "metadata": {
    "collapsed": false
   },
   "outputs": [
    {
     "data": {
      "text/plain": [
       "([<matplotlib.patches.Wedge at 0x7ff24ea97550>,\n",
       "  <matplotlib.patches.Wedge at 0x7ff24e353080>,\n",
       "  <matplotlib.patches.Wedge at 0x7ff24e353128>],\n",
       " [<matplotlib.text.Text at 0x7ff24ed4c860>,\n",
       "  <matplotlib.text.Text at 0x7ff24e353908>,\n",
       "  <matplotlib.text.Text at 0x7ff24e97f390>])"
      ]
     },
     "execution_count": 43,
     "metadata": {},
     "output_type": "execute_result"
    },
    {
     "data": {
      "image/png": "[encoded data removed]",
      "text/plain": [
       "<matplotlib.figure.Figure at 0x7ff24e2f40f0>"
      ]
     },
     "metadata": {},
     "output_type": "display_data"
    }
   ],
   "source": [
    "fig, ax = plt.subplots(2, 2, squeeze=False, figsize=(12,9))\n",
    "ax[0, 0].plot(total_alleles_read, '.')\n",
    "ax[1, 0].hist(num_alts)\n",
    "ax[1, 1].pie(num_alts_count, labels=range(2, 5))"
   ]
  },
  {
   "cell_type": "markdown",
   "metadata": {},
   "source": [
    "# store ref"
   ]
  },
  {
   "cell_type": "code",
   "execution_count": 19,
   "metadata": {
    "collapsed": false,
    "scrolled": false
   },
   "outputs": [
    {
     "data": {
      "text/plain": [
       "File(filename=../raw/total-3L.h5, title='', mode='r', root_uep='/', filters=Filters(complevel=0, shuffle=False, fletcher32=False, least_significant_digit=None))\n",
       "/ (RootGroup) ''\n",
       "/3L (Group) ''\n",
       "/3L/samples (Array(765,)) ''\n",
       "  atom := StringAtom(itemsize=8, shape=(), dflt=b'')\n",
       "  maindim := 0\n",
       "  flavor := 'numpy'\n",
       "  byteorder := 'irrelevant'\n",
       "  chunkshape := None\n",
       "/3L/calldata (Group) ''\n",
       "/3L/calldata/AD (EArray(9643193, 765, 4), zlib(3)) ''\n",
       "  atom := UInt16Atom(shape=(), dflt=0)\n",
       "  maindim := 0\n",
       "  flavor := 'numpy'\n",
       "  byteorder := 'little'\n",
       "  chunkshape := (1638, 10, 4)\n",
       "/3L/calldata/DP (EArray(9643193, 765), zlib(3)) ''\n",
       "  atom := UInt16Atom(shape=(), dflt=0)\n",
       "  maindim := 0\n",
       "  flavor := 'numpy'\n",
       "  byteorder := 'little'\n",
       "  chunkshape := (6553, 10)\n",
       "/3L/calldata/GQ (EArray(9643193, 765), zlib(3)) ''\n",
       "  atom := UInt8Atom(shape=(), dflt=0)\n",
       "  maindim := 0\n",
       "  flavor := 'numpy'\n",
       "  byteorder := 'irrelevant'\n",
       "  chunkshape := (13107, 10)\n",
       "/3L/calldata/genotype (EArray(9643193, 765, 2), zlib(3)) ''\n",
       "  atom := Int8Atom(shape=(), dflt=0)\n",
       "  maindim := 0\n",
       "  flavor := 'numpy'\n",
       "  byteorder := 'irrelevant'\n",
       "  chunkshape := (6553, 10, 2)\n",
       "/3L/calldata/is_called (EArray(9643193, 765), zlib(3)) ''\n",
       "  atom := EnumAtom(enum=Enum({'FALSE': 0, 'TRUE': 1}), dflt='FALSE', base=Int8Atom(shape=(), dflt=0), shape=())\n",
       "  maindim := 0\n",
       "  flavor := 'numpy'\n",
       "  byteorder := 'little'\n",
       "  chunkshape := (13107, 10)\n",
       "/3L/variants (Group) ''\n",
       "/3L/variants/ABHet (EArray(9643193,), zlib(3)) ''\n",
       "  atom := Float16Atom(shape=(), dflt=0.0)\n",
       "  maindim := 0\n",
       "  flavor := 'numpy'\n",
       "  byteorder := 'little'\n",
       "  chunkshape := (65536,)\n",
       "/3L/variants/ABHom (EArray(9643193,), zlib(3)) ''\n",
       "  atom := Float16Atom(shape=(), dflt=0.0)\n",
       "  maindim := 0\n",
       "  flavor := 'numpy'\n",
       "  byteorder := 'little'\n",
       "  chunkshape := (65536,)\n",
       "/3L/variants/AC (EArray(9643193, 3), zlib(3)) ''\n",
       "  atom := UInt16Atom(shape=(), dflt=0)\n",
       "  maindim := 0\n",
       "  flavor := 'numpy'\n",
       "  byteorder := 'little'\n",
       "  chunkshape := (21845, 3)\n",
       "/3L/variants/AF (EArray(9643193, 3), zlib(3)) ''\n",
       "  atom := Float16Atom(shape=(), dflt=0.0)\n",
       "  maindim := 0\n",
       "  flavor := 'numpy'\n",
       "  byteorder := 'little'\n",
       "  chunkshape := (21845, 3)\n",
       "/3L/variants/ALT (EArray(9643193, 3), zlib(3)) ''\n",
       "  atom := StringAtom(itemsize=1, shape=(), dflt=b'')\n",
       "  maindim := 0\n",
       "  flavor := 'numpy'\n",
       "  byteorder := 'irrelevant'\n",
       "  chunkshape := (43690, 3)\n",
       "/3L/variants/AN (EArray(9643193,), zlib(3)) ''\n",
       "  atom := UInt16Atom(shape=(), dflt=0)\n",
       "  maindim := 0\n",
       "  flavor := 'numpy'\n",
       "  byteorder := 'little'\n",
       "  chunkshape := (65536,)\n",
       "/3L/variants/ANN (Table(9643193,), zlib(3)) ''\n",
       "  description := {\n",
       "  \"Allele\": StringCol(itemsize=12, shape=(), dflt=b'', pos=0),\n",
       "  \"Annotation\": StringCol(itemsize=34, shape=(), dflt=b'', pos=1),\n",
       "  \"Annotation_Impact\": StringCol(itemsize=8, shape=(), dflt=b'', pos=2),\n",
       "  \"Gene_Name\": StringCol(itemsize=14, shape=(), dflt=b'', pos=3),\n",
       "  \"Gene_ID\": StringCol(itemsize=14, shape=(), dflt=b'', pos=4),\n",
       "  \"Feature_Type\": StringCol(itemsize=20, shape=(), dflt=b'', pos=5),\n",
       "  \"Feature_ID\": StringCol(itemsize=14, shape=(), dflt=b'', pos=6),\n",
       "  \"Transcript_BioType\": StringCol(itemsize=20, shape=(), dflt=b'', pos=7),\n",
       "  \"Rank\": Int8Col(shape=(), dflt=0, pos=8),\n",
       "  \"HGVS_c\": StringCol(itemsize=12, shape=(), dflt=b'', pos=9),\n",
       "  \"HGVS_p\": StringCol(itemsize=14, shape=(), dflt=b'', pos=10),\n",
       "  \"cDNA_pos\": Int32Col(shape=(), dflt=0, pos=11),\n",
       "  \"cDNA_length\": Int32Col(shape=(), dflt=0, pos=12),\n",
       "  \"CDS_pos\": Int32Col(shape=(), dflt=0, pos=13),\n",
       "  \"CDS_length\": Int32Col(shape=(), dflt=0, pos=14),\n",
       "  \"AA_pos\": Int32Col(shape=(), dflt=0, pos=15),\n",
       "  \"AA_length\": Int32Col(shape=(), dflt=0, pos=16),\n",
       "  \"Distance\": Int32Col(shape=(), dflt=0, pos=17)}\n",
       "  byteorder := 'little'\n",
       "  chunkshape := (686,)\n",
       "/3L/variants/Accessible (EArray(9643193,), zlib(3)) ''\n",
       "  atom := EnumAtom(enum=Enum({'FALSE': 0, 'TRUE': 1}), dflt='FALSE', base=Int8Atom(shape=(), dflt=0), shape=())\n",
       "  maindim := 0\n",
       "  flavor := 'numpy'\n",
       "  byteorder := 'little'\n",
       "  chunkshape := (131072,)\n",
       "/3L/variants/BaseCounts (EArray(9643193, 4), zlib(3)) ''\n",
       "  atom := Int32Atom(shape=(), dflt=0)\n",
       "  maindim := 0\n",
       "  flavor := 'numpy'\n",
       "  byteorder := 'little'\n",
       "  chunkshape := (10922, 3)\n",
       "/3L/variants/BaseQRankSum (EArray(9643193,), zlib(3)) ''\n",
       "  atom := Float16Atom(shape=(), dflt=0.0)\n",
       "  maindim := 0\n",
       "  flavor := 'numpy'\n",
       "  byteorder := 'little'\n",
       "  chunkshape := (65536,)\n",
       "/3L/variants/CHROM (EArray(9643193,), zlib(3)) ''\n",
       "  atom := StringAtom(itemsize=12, shape=(), dflt=b'')\n",
       "  maindim := 0\n",
       "  flavor := 'numpy'\n",
       "  byteorder := 'irrelevant'\n",
       "  chunkshape := (10922,)\n",
       "/3L/variants/Coverage (EArray(9643193,), zlib(3)) ''\n",
       "  atom := Int32Atom(shape=(), dflt=0)\n",
       "  maindim := 0\n",
       "  flavor := 'numpy'\n",
       "  byteorder := 'little'\n",
       "  chunkshape := (32768,)\n",
       "/3L/variants/CoverageMQ0 (EArray(9643193,), zlib(3)) ''\n",
       "  atom := Int32Atom(shape=(), dflt=0)\n",
       "  maindim := 0\n",
       "  flavor := 'numpy'\n",
       "  byteorder := 'little'\n",
       "  chunkshape := (32768,)\n",
       "/3L/variants/DP (EArray(9643193,), zlib(3)) ''\n",
       "  atom := Int32Atom(shape=(), dflt=0)\n",
       "  maindim := 0\n",
       "  flavor := 'numpy'\n",
       "  byteorder := 'little'\n",
       "  chunkshape := (32768,)\n",
       "/3L/variants/DS (EArray(9643193,), zlib(3)) ''\n",
       "  atom := EnumAtom(enum=Enum({'FALSE': 0, 'TRUE': 1}), dflt='FALSE', base=Int8Atom(shape=(), dflt=0), shape=())\n",
       "  maindim := 0\n",
       "  flavor := 'numpy'\n",
       "  byteorder := 'little'\n",
       "  chunkshape := (131072,)\n",
       "/3L/variants/Dels (EArray(9643193,), zlib(3)) ''\n",
       "  atom := Float16Atom(shape=(), dflt=0.0)\n",
       "  maindim := 0\n",
       "  flavor := 'numpy'\n",
       "  byteorder := 'little'\n",
       "  chunkshape := (65536,)\n",
       "/3L/variants/FILTER_FS (EArray(9643193,), zlib(3)) ''\n",
       "  atom := EnumAtom(enum=Enum({'FALSE': 0, 'TRUE': 1}), dflt='FALSE', base=Int8Atom(shape=(), dflt=0), shape=())\n",
       "  maindim := 0\n",
       "  flavor := 'numpy'\n",
       "  byteorder := 'little'\n",
       "  chunkshape := (131072,)\n",
       "/3L/variants/FILTER_HRun (EArray(9643193,), zlib(3)) ''\n",
       "  atom := EnumAtom(enum=Enum({'FALSE': 0, 'TRUE': 1}), dflt='FALSE', base=Int8Atom(shape=(), dflt=0), shape=())\n",
       "  maindim := 0\n",
       "  flavor := 'numpy'\n",
       "  byteorder := 'little'\n",
       "  chunkshape := (131072,)\n",
       "/3L/variants/FILTER_HighCoverage (EArray(9643193,), zlib(3)) ''\n",
       "  atom := EnumAtom(enum=Enum({'FALSE': 0, 'TRUE': 1}), dflt='FALSE', base=Int8Atom(shape=(), dflt=0), shape=())\n",
       "  maindim := 0\n",
       "  flavor := 'numpy'\n",
       "  byteorder := 'little'\n",
       "  chunkshape := (131072,)\n",
       "/3L/variants/FILTER_HighMQ0 (EArray(9643193,), zlib(3)) ''\n",
       "  atom := EnumAtom(enum=Enum({'FALSE': 0, 'TRUE': 1}), dflt='FALSE', base=Int8Atom(shape=(), dflt=0), shape=())\n",
       "  maindim := 0\n",
       "  flavor := 'numpy'\n",
       "  byteorder := 'little'\n",
       "  chunkshape := (131072,)\n",
       "/3L/variants/FILTER_LowCoverage (EArray(9643193,), zlib(3)) ''\n",
       "  atom := EnumAtom(enum=Enum({'FALSE': 0, 'TRUE': 1}), dflt='FALSE', base=Int8Atom(shape=(), dflt=0), shape=())\n",
       "  maindim := 0\n",
       "  flavor := 'numpy'\n",
       "  byteorder := 'little'\n",
       "  chunkshape := (131072,)\n",
       "/3L/variants/FILTER_LowMQ (EArray(9643193,), zlib(3)) ''\n",
       "  atom := EnumAtom(enum=Enum({'FALSE': 0, 'TRUE': 1}), dflt='FALSE', base=Int8Atom(shape=(), dflt=0), shape=())\n",
       "  maindim := 0\n",
       "  flavor := 'numpy'\n",
       "  byteorder := 'little'\n",
       "  chunkshape := (131072,)\n",
       "/3L/variants/FILTER_LowQual (EArray(9643193,), zlib(3)) ''\n",
       "  atom := EnumAtom(enum=Enum({'FALSE': 0, 'TRUE': 1}), dflt='FALSE', base=Int8Atom(shape=(), dflt=0), shape=())\n",
       "  maindim := 0\n",
       "  flavor := 'numpy'\n",
       "  byteorder := 'little'\n",
       "  chunkshape := (131072,)\n",
       "/3L/variants/FILTER_NoCoverage (EArray(9643193,), zlib(3)) ''\n",
       "  atom := EnumAtom(enum=Enum({'FALSE': 0, 'TRUE': 1}), dflt='FALSE', base=Int8Atom(shape=(), dflt=0), shape=())\n",
       "  maindim := 0\n",
       "  flavor := 'numpy'\n",
       "  byteorder := 'little'\n",
       "  chunkshape := (131072,)\n",
       "/3L/variants/FILTER_PASS (EArray(9643193,), zlib(3)) ''\n",
       "  atom := EnumAtom(enum=Enum({'FALSE': 0, 'TRUE': 1}), dflt='FALSE', base=Int8Atom(shape=(), dflt=0), shape=())\n",
       "  maindim := 0\n",
       "  flavor := 'numpy'\n",
       "  byteorder := 'little'\n",
       "  chunkshape := (131072,)\n",
       "/3L/variants/FILTER_QD (EArray(9643193,), zlib(3)) ''\n",
       "  atom := EnumAtom(enum=Enum({'FALSE': 0, 'TRUE': 1}), dflt='FALSE', base=Int8Atom(shape=(), dflt=0), shape=())\n",
       "  maindim := 0\n",
       "  flavor := 'numpy'\n",
       "  byteorder := 'little'\n",
       "  chunkshape := (131072,)\n",
       "/3L/variants/FILTER_ReadPosRankSum (EArray(9643193,), zlib(3)) ''\n",
       "  atom := EnumAtom(enum=Enum({'FALSE': 0, 'TRUE': 1}), dflt='FALSE', base=Int8Atom(shape=(), dflt=0), shape=())\n",
       "  maindim := 0\n",
       "  flavor := 'numpy'\n",
       "  byteorder := 'little'\n",
       "  chunkshape := (131072,)\n",
       "/3L/variants/FILTER_RefN (EArray(9643193,), zlib(3)) ''\n",
       "  atom := EnumAtom(enum=Enum({'FALSE': 0, 'TRUE': 1}), dflt='FALSE', base=Int8Atom(shape=(), dflt=0), shape=())\n",
       "  maindim := 0\n",
       "  flavor := 'numpy'\n",
       "  byteorder := 'little'\n",
       "  chunkshape := (131072,)\n",
       "/3L/variants/FILTER_RepeatDUST (EArray(9643193,), zlib(3)) ''\n",
       "  atom := EnumAtom(enum=Enum({'FALSE': 0, 'TRUE': 1}), dflt='FALSE', base=Int8Atom(shape=(), dflt=0), shape=())\n",
       "  maindim := 0\n",
       "  flavor := 'numpy'\n",
       "  byteorder := 'little'\n",
       "  chunkshape := (131072,)\n",
       "/3L/variants/FS (EArray(9643193,), zlib(3)) ''\n",
       "  atom := Float16Atom(shape=(), dflt=0.0)\n",
       "  maindim := 0\n",
       "  flavor := 'numpy'\n",
       "  byteorder := 'little'\n",
       "  chunkshape := (65536,)\n",
       "/3L/variants/HRun (EArray(9643193,), zlib(3)) ''\n",
       "  atom := UInt8Atom(shape=(), dflt=0)\n",
       "  maindim := 0\n",
       "  flavor := 'numpy'\n",
       "  byteorder := 'irrelevant'\n",
       "  chunkshape := (131072,)\n",
       "/3L/variants/HW (EArray(9643193,), zlib(3)) ''\n",
       "  atom := Float32Atom(shape=(), dflt=0.0)\n",
       "  maindim := 0\n",
       "  flavor := 'numpy'\n",
       "  byteorder := 'little'\n",
       "  chunkshape := (32768,)\n",
       "/3L/variants/HaplotypeScore (EArray(9643193,), zlib(3)) ''\n",
       "  atom := Float16Atom(shape=(), dflt=0.0)\n",
       "  maindim := 0\n",
       "  flavor := 'numpy'\n",
       "  byteorder := 'little'\n",
       "  chunkshape := (65536,)\n",
       "/3L/variants/HighCoverage (EArray(9643193,), zlib(3)) ''\n",
       "  atom := Int32Atom(shape=(), dflt=0)\n",
       "  maindim := 0\n",
       "  flavor := 'numpy'\n",
       "  byteorder := 'little'\n",
       "  chunkshape := (32768,)\n",
       "/3L/variants/HighMQ0 (EArray(9643193,), zlib(3)) ''\n",
       "  atom := Int32Atom(shape=(), dflt=0)\n",
       "  maindim := 0\n",
       "  flavor := 'numpy'\n",
       "  byteorder := 'little'\n",
       "  chunkshape := (32768,)\n",
       "/3L/variants/InbreedingCoeff (EArray(9643193,), zlib(3)) ''\n",
       "  atom := Float16Atom(shape=(), dflt=0.0)\n",
       "  maindim := 0\n",
       "  flavor := 'numpy'\n",
       "  byteorder := 'little'\n",
       "  chunkshape := (65536,)\n",
       "/3L/variants/LOF (EArray(9643193,), zlib(3)) ''\n",
       "  atom := StringAtom(itemsize=12, shape=(), dflt=b'')\n",
       "  maindim := 0\n",
       "  flavor := 'numpy'\n",
       "  byteorder := 'irrelevant'\n",
       "  chunkshape := (10922,)\n",
       "/3L/variants/LowCoverage (EArray(9643193,), zlib(3)) ''\n",
       "  atom := Int32Atom(shape=(), dflt=0)\n",
       "  maindim := 0\n",
       "  flavor := 'numpy'\n",
       "  byteorder := 'little'\n",
       "  chunkshape := (32768,)\n",
       "/3L/variants/LowMQ (EArray(9643193,), zlib(3)) ''\n",
       "  atom := Int32Atom(shape=(), dflt=0)\n",
       "  maindim := 0\n",
       "  flavor := 'numpy'\n",
       "  byteorder := 'little'\n",
       "  chunkshape := (32768,)\n",
       "/3L/variants/LowPairing (EArray(9643193,), zlib(3)) ''\n",
       "  atom := Int32Atom(shape=(), dflt=0)\n",
       "  maindim := 0\n",
       "  flavor := 'numpy'\n",
       "  byteorder := 'little'\n",
       "  chunkshape := (32768,)\n",
       "/3L/variants/MLEAC (EArray(9643193, 3), zlib(3)) ''\n",
       "  atom := UInt16Atom(shape=(), dflt=0)\n",
       "  maindim := 0\n",
       "  flavor := 'numpy'\n",
       "  byteorder := 'little'\n",
       "  chunkshape := (21845, 3)\n",
       "/3L/variants/MLEAF (EArray(9643193, 3), zlib(3)) ''\n",
       "  atom := Float16Atom(shape=(), dflt=0.0)\n",
       "  maindim := 0\n",
       "  flavor := 'numpy'\n",
       "  byteorder := 'little'\n",
       "  chunkshape := (21845, 3)\n",
       "/3L/variants/MQ (EArray(9643193,), zlib(3)) ''\n",
       "  atom := Float16Atom(shape=(), dflt=0.0)\n",
       "  maindim := 0\n",
       "  flavor := 'numpy'\n",
       "  byteorder := 'little'\n",
       "  chunkshape := (65536,)\n",
       "/3L/variants/MQ0 (EArray(9643193,), zlib(3)) ''\n",
       "  atom := Int32Atom(shape=(), dflt=0)\n",
       "  maindim := 0\n",
       "  flavor := 'numpy'\n",
       "  byteorder := 'little'\n",
       "  chunkshape := (32768,)\n",
       "/3L/variants/MQRankSum (EArray(9643193,), zlib(3)) ''\n",
       "  atom := Float16Atom(shape=(), dflt=0.0)\n",
       "  maindim := 0\n",
       "  flavor := 'numpy'\n",
       "  byteorder := 'little'\n",
       "  chunkshape := (65536,)\n",
       "/3L/variants/NDA (EArray(9643193,), zlib(3)) ''\n",
       "  atom := Int32Atom(shape=(), dflt=0)\n",
       "  maindim := 0\n",
       "  flavor := 'numpy'\n",
       "  byteorder := 'little'\n",
       "  chunkshape := (32768,)\n",
       "/3L/variants/NMD (EArray(9643193,), zlib(3)) ''\n",
       "  atom := StringAtom(itemsize=12, shape=(), dflt=b'')\n",
       "  maindim := 0\n",
       "  flavor := 'numpy'\n",
       "  byteorder := 'irrelevant'\n",
       "  chunkshape := (10922,)\n",
       "/3L/variants/NoCoverage (EArray(9643193,), zlib(3)) ''\n",
       "  atom := Int32Atom(shape=(), dflt=0)\n",
       "  maindim := 0\n",
       "  flavor := 'numpy'\n",
       "  byteorder := 'little'\n",
       "  chunkshape := (32768,)\n",
       "/3L/variants/OND (EArray(9643193,), zlib(3)) ''\n",
       "  atom := Float16Atom(shape=(), dflt=0.0)\n",
       "  maindim := 0\n",
       "  flavor := 'numpy'\n",
       "  byteorder := 'little'\n",
       "  chunkshape := (65536,)\n",
       "/3L/variants/POS (EArray(9643193,), zlib(3)) ''\n",
       "  atom := Int32Atom(shape=(), dflt=0)\n",
       "  maindim := 0\n",
       "  flavor := 'numpy'\n",
       "  byteorder := 'little'\n",
       "  chunkshape := (32768,)\n",
       "/3L/variants/QD (EArray(9643193,), zlib(3)) ''\n",
       "  atom := Float16Atom(shape=(), dflt=0.0)\n",
       "  maindim := 0\n",
       "  flavor := 'numpy'\n",
       "  byteorder := 'little'\n",
       "  chunkshape := (65536,)\n",
       "/3L/variants/QUAL (EArray(9643193,), zlib(3)) ''\n",
       "  atom := Float32Atom(shape=(), dflt=0.0)\n",
       "  maindim := 0\n",
       "  flavor := 'numpy'\n",
       "  byteorder := 'little'\n",
       "  chunkshape := (32768,)\n",
       "/3L/variants/REF (EArray(9643193,), zlib(3)) ''\n",
       "  atom := StringAtom(itemsize=1, shape=(), dflt=b'')\n",
       "  maindim := 0\n",
       "  flavor := 'numpy'\n",
       "  byteorder := 'irrelevant'\n",
       "  chunkshape := (131072,)\n",
       "/3L/variants/RPA (EArray(9643193,), zlib(3)) ''\n",
       "  atom := UInt16Atom(shape=(), dflt=0)\n",
       "  maindim := 0\n",
       "  flavor := 'numpy'\n",
       "  byteorder := 'little'\n",
       "  chunkshape := (65536,)\n",
       "/3L/variants/RU (EArray(9643193,), zlib(3)) ''\n",
       "  atom := StringAtom(itemsize=12, shape=(), dflt=b'')\n",
       "  maindim := 0\n",
       "  flavor := 'numpy'\n",
       "  byteorder := 'irrelevant'\n",
       "  chunkshape := (10922,)\n",
       "/3L/variants/ReadPosRankSum (EArray(9643193,), zlib(3)) ''\n",
       "  atom := Float16Atom(shape=(), dflt=0.0)\n",
       "  maindim := 0\n",
       "  flavor := 'numpy'\n",
       "  byteorder := 'little'\n",
       "  chunkshape := (65536,)\n",
       "/3L/variants/RefMasked (EArray(9643193,), zlib(3)) ''\n",
       "  atom := EnumAtom(enum=Enum({'FALSE': 0, 'TRUE': 1}), dflt='FALSE', base=Int8Atom(shape=(), dflt=0), shape=())\n",
       "  maindim := 0\n",
       "  flavor := 'numpy'\n",
       "  byteorder := 'little'\n",
       "  chunkshape := (131072,)\n",
       "/3L/variants/RefN (EArray(9643193,), zlib(3)) ''\n",
       "  atom := EnumAtom(enum=Enum({'FALSE': 0, 'TRUE': 1}), dflt='FALSE', base=Int8Atom(shape=(), dflt=0), shape=())\n",
       "  maindim := 0\n",
       "  flavor := 'numpy'\n",
       "  byteorder := 'little'\n",
       "  chunkshape := (131072,)\n",
       "/3L/variants/RepeatDUST (EArray(9643193,), zlib(3)) ''\n",
       "  atom := EnumAtom(enum=Enum({'FALSE': 0, 'TRUE': 1}), dflt='FALSE', base=Int8Atom(shape=(), dflt=0), shape=())\n",
       "  maindim := 0\n",
       "  flavor := 'numpy'\n",
       "  byteorder := 'little'\n",
       "  chunkshape := (131072,)\n",
       "/3L/variants/RepeatMasker (EArray(9643193,), zlib(3)) ''\n",
       "  atom := EnumAtom(enum=Enum({'FALSE': 0, 'TRUE': 1}), dflt='FALSE', base=Int8Atom(shape=(), dflt=0), shape=())\n",
       "  maindim := 0\n",
       "  flavor := 'numpy'\n",
       "  byteorder := 'little'\n",
       "  chunkshape := (131072,)\n",
       "/3L/variants/RepeatTRF (EArray(9643193,), zlib(3)) ''\n",
       "  atom := EnumAtom(enum=Enum({'FALSE': 0, 'TRUE': 1}), dflt='FALSE', base=Int8Atom(shape=(), dflt=0), shape=())\n",
       "  maindim := 0\n",
       "  flavor := 'numpy'\n",
       "  byteorder := 'little'\n",
       "  chunkshape := (131072,)\n",
       "/3L/variants/STR (EArray(9643193,), zlib(3)) ''\n",
       "  atom := EnumAtom(enum=Enum({'FALSE': 0, 'TRUE': 1}), dflt='FALSE', base=Int8Atom(shape=(), dflt=0), shape=())\n",
       "  maindim := 0\n",
       "  flavor := 'numpy'\n",
       "  byteorder := 'little'\n",
       "  chunkshape := (131072,)\n",
       "/3L/variants/VariantType (EArray(9643193,), zlib(3)) ''\n",
       "  atom := StringAtom(itemsize=12, shape=(), dflt=b'')\n",
       "  maindim := 0\n",
       "  flavor := 'numpy'\n",
       "  byteorder := 'irrelevant'\n",
       "  chunkshape := (10922,)\n",
       "/3L/variants/is_snp (EArray(9643193,), zlib(3)) ''\n",
       "  atom := EnumAtom(enum=Enum({'FALSE': 0, 'TRUE': 1}), dflt='FALSE', base=Int8Atom(shape=(), dflt=0), shape=())\n",
       "  maindim := 0\n",
       "  flavor := 'numpy'\n",
       "  byteorder := 'little'\n",
       "  chunkshape := (131072,)\n",
       "/3L/variants/num_alleles (EArray(9643193,), zlib(3)) ''\n",
       "  atom := UInt8Atom(shape=(), dflt=0)\n",
       "  maindim := 0\n",
       "  flavor := 'numpy'\n",
       "  byteorder := 'irrelevant'\n",
       "  chunkshape := (131072,)\n",
       "/3L/variants/svlen (EArray(9643193,), zlib(3)) ''\n",
       "  atom := Int32Atom(shape=(), dflt=0)\n",
       "  maindim := 0\n",
       "  flavor := 'numpy'\n",
       "  byteorder := 'little'\n",
       "  chunkshape := (32768,)"
      ]
     },
     "execution_count": 19,
     "metadata": {},
     "output_type": "execute_result"
    }
   ],
   "source": [
    "store"
   ]
  }
 ],
 "metadata": {
  "kernelspec": {
   "display_name": "Python 3",
   "language": "python",
   "name": "python3"
  },
  "language_info": {
   "codemirror_mode": {
    "name": "ipython",
    "version": 3
   },
   "file_extension": ".py",
   "mimetype": "text/x-python",
   "name": "python",
   "nbconvert_exporter": "python",
   "pygments_lexer": "ipython3",
   "version": "3.5.2"
  }
 },
 "nbformat": 4,
 "nbformat_minor": 0
}
