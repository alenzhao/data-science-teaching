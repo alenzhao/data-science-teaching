{
 "cells": [
  {
   "cell_type": "code",
   "execution_count": 1,
   "metadata": {
    "collapsed": true
   },
   "outputs": [],
   "source": [
    "%matplotlib inline\n",
    "from collections import defaultdict\n",
    "import sys\n",
    "\n",
    "import numpy as np\n",
    "import tables\n",
    "import matplotlib.pyplot as plt\n",
    "import pandas as pd"
   ]
  },
  {
   "cell_type": "code",
   "execution_count": 2,
   "metadata": {
    "collapsed": true
   },
   "outputs": [],
   "source": [
    "fname = '../raw/total-3L.h5'"
   ]
  },
  {
   "cell_type": "code",
   "execution_count": 3,
   "metadata": {
    "collapsed": false
   },
   "outputs": [],
   "source": [
    "#store = pd.HDFStore(fname, 'r')\n",
    "store = tables.open_file(fname, 'r')"
   ]
  },
  {
   "cell_type": "code",
   "execution_count": 4,
   "metadata": {
    "collapsed": false
   },
   "outputs": [
    {
     "name": "stdout",
     "output_type": "stream",
     "text": [
      "/3L (Group) ''\n",
      "/3L/calldata (Group) ''\n",
      "/3L/samples (Array(765,)) ''\n",
      "/3L/variants (Group) ''\n"
     ]
    }
   ],
   "source": [
    "for n in store.get_node('/'):  # .root\n",
    "    print(n)\n",
    "for n in store.get_node('/3L'): # .3L\n",
    "    print(n)"
   ]
  },
  {
   "cell_type": "code",
   "execution_count": 5,
   "metadata": {
    "collapsed": false
   },
   "outputs": [
    {
     "name": "stdout",
     "output_type": "stream",
     "text": [
      "<class 'numpy.ndarray'>\n",
      "[b'AB0085-C' b'AB0087-C' b'AB0088-C' b'AB0089-C' b'AB0090-C' b'AB0091-C'\n",
      " b'AB0092-C' b'AB0094-C' b'AB0095-C' b'AB0097-C']\n"
     ]
    }
   ],
   "source": [
    "samples = store.get_node('/3L/samples').read()\n",
    "print(type(samples))\n",
    "print(samples[:10])"
   ]
  },
  {
   "cell_type": "code",
   "execution_count": 6,
   "metadata": {
    "collapsed": false
   },
   "outputs": [
    {
     "data": {
      "text/plain": [
       "41956556"
      ]
     },
     "execution_count": 6,
     "metadata": {},
     "output_type": "execute_result"
    }
   ],
   "source": [
    "call_data = store.get_node('/3L').calldata\n",
    "samples = store.get_node('/3L/samples')\n",
    "variants = store.get_node('/3L/variants')\n",
    "variants.POS[-1]"
   ]
  },
  {
   "cell_type": "code",
   "execution_count": 7,
   "metadata": {
    "collapsed": false
   },
   "outputs": [
    {
     "data": {
      "text/plain": [
       "array([b'AB0085-C', b'AB0087-C', b'AB0088-C', b'AB0089-C', b'AB0090-C',\n",
       "       b'AB0091-C', b'AB0092-C', b'AB0094-C', b'AB0095-C', b'AB0097-C'], \n",
       "      dtype='|S8')"
      ]
     },
     "execution_count": 7,
     "metadata": {},
     "output_type": "execute_result"
    }
   ],
   "source": [
    "samples[:10]"
   ]
  },
  {
   "cell_type": "code",
   "execution_count": 8,
   "metadata": {
    "collapsed": false
   },
   "outputs": [],
   "source": [
    "# store['/3L/variants/ANN']  # no no no!"
   ]
  },
  {
   "cell_type": "code",
   "execution_count": 9,
   "metadata": {
    "collapsed": false
   },
   "outputs": [],
   "source": [
    "# no no no\n",
    "#for rec in store['/3L/variants/ANN']:\n",
    "#    print(rec)\n",
    "#    break"
   ]
  },
  {
   "cell_type": "markdown",
   "metadata": {},
   "source": [
    "## Size of objects"
   ]
  },
  {
   "cell_type": "code",
   "execution_count": 10,
   "metadata": {
    "collapsed": false
   },
   "outputs": [],
   "source": [
    "annotations_np = variants.ANN.read()  # load time"
   ]
  },
  {
   "cell_type": "code",
   "execution_count": 11,
   "metadata": {
    "collapsed": false
   },
   "outputs": [
    {
     "name": "stdout",
     "output_type": "stream",
     "text": [
      "<class 'numpy.ndarray'>\n"
     ]
    },
    {
     "data": {
      "text/plain": [
       "(b'T', b'intergenic_region', b'MODIFIER', b'AGAP010310', b'AGAP010310', b'intergenic_region', b'AGAP010310', b'.', -1, b'.', b'.', -1, -1, -1, -1, -1, -1, -1)"
      ]
     },
     "execution_count": 11,
     "metadata": {},
     "output_type": "execute_result"
    }
   ],
   "source": [
    "print(type(annotations_np))\n",
    "annotations_np[0]"
   ]
  },
  {
   "cell_type": "code",
   "execution_count": 12,
   "metadata": {
    "collapsed": false
   },
   "outputs": [
    {
     "name": "stdout",
     "output_type": "stream",
     "text": [
      "<class 'tables.table.Table'>\n",
      "0\n",
      "(b'T', b'intergenic_region', b'MODIFIER', b'AGAP010310', b'AGAP010310', b'intergenic_region', b'AGAP010310', b'.', -1, b'.', b'.', -1, -1, -1, -1, -1, -1, -1)\n",
      "1\n",
      "(b'A', b'intergenic_region', b'MODIFIER', b'AGAP010310', b'AGAP010310', b'intergenic_region', b'AGAP010310', b'.', -1, b'.', b'.', -1, -1, -1, -1, -1, -1, -1)\n"
     ]
    }
   ],
   "source": [
    "ann = store.get_node('/3L/variants/ANN')\n",
    "print(type(ann))\n",
    "for i, rec in enumerate(ann):\n",
    "    print(rec.nrow)\n",
    "    print(rec.fetch_all_fields())\n",
    "    if i == 1:\n",
    "        break"
   ]
  },
  {
   "cell_type": "code",
   "execution_count": 13,
   "metadata": {
    "collapsed": false
   },
   "outputs": [
    {
     "name": "stdout",
     "output_type": "stream",
     "text": [
      "1841849959\n",
      "112\n",
      "1841849863\n",
      "47705417\n"
     ]
    }
   ],
   "source": [
    "#This is not very honest and a complex problem...\n",
    "print(sys.getsizeof(annotations_np))\n",
    "print(sys.getsizeof(ann))\n",
    "print(ann.size_in_memory)\n",
    "print(ann.size_on_disk)"
   ]
  },
  {
   "cell_type": "markdown",
   "metadata": {},
   "source": [
    "# Exploration"
   ]
  },
  {
   "cell_type": "markdown",
   "metadata": {},
   "source": [
    "## Number of markers"
   ]
  },
  {
   "cell_type": "markdown",
   "metadata": {},
   "source": [
    "#number of bi-allelic SNPs with all call data and"
   ]
  },
  {
   "cell_type": "code",
   "execution_count": 14,
   "metadata": {
    "collapsed": false
   },
   "outputs": [
    {
     "data": {
      "text/plain": [
       "(9643193,)"
      ]
     },
     "execution_count": 14,
     "metadata": {},
     "output_type": "execute_result"
    }
   ],
   "source": [
    "accessibility_array = store.get_node('/3L/variants/Accessible')\n",
    "accessibility_array.shape"
   ]
  },
  {
   "cell_type": "code",
   "execution_count": 15,
   "metadata": {
    "collapsed": false
   },
   "outputs": [
    {
     "name": "stdout",
     "output_type": "stream",
     "text": [
      "(9643193,)\n",
      "9643193\n"
     ]
    }
   ],
   "source": [
    "is_snp_array = store.get_node('/3L/variants/is_snp')\n",
    "print(is_snp_array.shape)\n",
    "is_snp = is_snp_array.read()\n",
    "print(sum(is_snp))\n",
    "del is_snp"
   ]
  },
  {
   "cell_type": "code",
   "execution_count": 16,
   "metadata": {
    "collapsed": true
   },
   "outputs": [],
   "source": [
    "alt_alleles = store.get_node('/3L/variants/AC')\n",
    "total_alleles = store.get_node('/3L/variants/AN')"
   ]
  },
  {
   "cell_type": "code",
   "execution_count": 17,
   "metadata": {
    "collapsed": false
   },
   "outputs": [
    {
     "name": "stdout",
     "output_type": "stream",
     "text": [
      "365952\n",
      "19286386\n"
     ]
    }
   ],
   "source": [
    "print(total_alleles.size_on_disk)\n",
    "print(total_alleles.size_in_memory)"
   ]
  },
  {
   "cell_type": "code",
   "execution_count": 18,
   "metadata": {
    "collapsed": false
   },
   "outputs": [
    {
     "name": "stdout",
     "output_type": "stream",
     "text": [
      "(9643193, 3)\n",
      "(9643193,)\n"
     ]
    }
   ],
   "source": [
    "print(alt_alleles.shape)\n",
    "print(total_alleles.shape)"
   ]
  },
  {
   "cell_type": "code",
   "execution_count": 19,
   "metadata": {
    "collapsed": false
   },
   "outputs": [],
   "source": [
    "total_alleles_read = total_alleles.read()\n",
    "total_alleles_read.sort()"
   ]
  },
  {
   "cell_type": "code",
   "execution_count": 20,
   "metadata": {
    "collapsed": false
   },
   "outputs": [],
   "source": [
    "num_alts = [len(list(filter(lambda x: x>0, alts))) for alts in alt_alleles.iterrows()]"
   ]
  },
  {
   "cell_type": "code",
   "execution_count": 21,
   "metadata": {
    "collapsed": false
   },
   "outputs": [],
   "source": [
    "num_alts_count = [0, 0, 0]\n",
    "for num in num_alts:\n",
    "    num_alts_count[num - 1] += 1"
   ]
  },
  {
   "cell_type": "code",
   "execution_count": 22,
   "metadata": {
    "collapsed": false
   },
   "outputs": [
    {
     "data": {
      "text/plain": [
       "[7449486, 1998477, 195230]"
      ]
     },
     "execution_count": 22,
     "metadata": {},
     "output_type": "execute_result"
    }
   ],
   "source": [
    "num_alts_count"
   ]
  },
  {
   "cell_type": "code",
   "execution_count": null,
   "metadata": {
    "collapsed": false
   },
   "outputs": [
    {
     "data": {
      "text/plain": [
       "([<matplotlib.patches.Wedge at 0x7fb3767acd30>,\n",
       "  <matplotlib.patches.Wedge at 0x7fb3767e3a90>,\n",
       "  <matplotlib.patches.Wedge at 0x7fb37676b710>],\n",
       " [<matplotlib.text.Text at 0x7fb3767e3630>,\n",
       "  <matplotlib.text.Text at 0x7fb37676b2b0>,\n",
       "  <matplotlib.text.Text at 0x7fb37676bef0>])"
      ]
     },
     "execution_count": 23,
     "metadata": {},
     "output_type": "execute_result"
    },
    {
     "data": {
      "image/png": "[encoded data removed]",
      "text/plain": [
       "<matplotlib.figure.Figure at 0x7fb3e7cb1208>"
      ]
     },
     "metadata": {},
     "output_type": "display_data"
    }
   ],
   "source": [
    "fig, ax = plt.subplots(2, 2, squeeze=False, figsize=(12,9))\n",
    "ax[0, 0].plot(total_alleles_read, '.')\n",
    "ax[1, 0].hist(num_alts)\n",
    "ax[1, 1].pie(num_alts_count, labels=range(2, 5))"
   ]
  },
  {
   "cell_type": "markdown",
   "metadata": {},
   "source": [
    "# singletons et al (for bi-allelic snps)"
   ]
  },
  {
   "cell_type": "code",
   "execution_count": null,
   "metadata": {
    "collapsed": false,
    "scrolled": false
   },
   "outputs": [
    {
     "name": "stdout",
     "output_type": "stream",
     "text": [
      "defaultdict(<class 'int'>, {0: 1})\n",
      "defaultdict(<class 'int'>, {0: 963})\n",
      "defaultdict(<class 'int'>, {0: 1927})\n",
      "defaultdict(<class 'int'>, {0: 2893})\n"
     ]
    }
   ],
   "source": [
    "poses = store.get_node('/3L/variants/POS')\n",
    "is_called = store.get_node('/3L/calldata/is_called')\n",
    "genotype = store.get_node('/3L/calldata/genotype')\n",
    "maf_count = defaultdict(int)\n",
    "for i, snp_pos, snp_called, snp_genotype, snp_alts in zip(range(len(is_called)), poses, is_called, genotype, num_alts):\n",
    "    if snp_alts > 1:\n",
    "        continue\n",
    "    counts = [0, 0, 0]\n",
    "    for sample_called, sample_genotype in zip(snp_called, snp_genotype):\n",
    "        if sample_called == 0:\n",
    "            continue\n",
    "        if max(sample_genotype) > 1:\n",
    "            print(i, snp_alts, sample_genotype)\n",
    "        counts[sample_genotype[0]] += 1\n",
    "        counts[sample_genotype[1]] += 1\n",
    "    maf_count[min(counts)] += 1\n",
    "    if i % 1000 == 0:\n",
    "        print(maf_count)"
   ]
  },
  {
   "cell_type": "markdown",
   "metadata": {},
   "source": [
    "# store"
   ]
  },
  {
   "cell_type": "code",
   "execution_count": null,
   "metadata": {
    "collapsed": false
   },
   "outputs": [],
   "source": [
    "store"
   ]
  }
 ],
 "metadata": {
  "kernelspec": {
   "display_name": "Python 3",
   "language": "python",
   "name": "python3"
  },
  "language_info": {
   "codemirror_mode": {
    "name": "ipython",
    "version": 3
   },
   "file_extension": ".py",
   "mimetype": "text/x-python",
   "name": "python",
   "nbconvert_exporter": "python",
   "pygments_lexer": "ipython3",
   "version": "3.5.2"
  }
 },
 "nbformat": 4,
 "nbformat_minor": 0
}
