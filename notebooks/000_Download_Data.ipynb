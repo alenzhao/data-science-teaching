{
 "cells": [
  {
   "cell_type": "code",
   "execution_count": 1,
   "metadata": {
    "collapsed": false
   },
   "outputs": [],
   "source": [
    "!mkdir ../raw 2> /dev/null  # OK if already exists"
   ]
  },
  {
   "cell_type": "markdown",
   "metadata": {},
   "source": [
    "# Metadata"
   ]
  },
  {
   "cell_type": "code",
   "execution_count": 2,
   "metadata": {
    "collapsed": false
   },
   "outputs": [
    {
     "name": "stdout",
     "output_type": "stream",
     "text": [
      "--2016-07-05 15:55:56--  ftp://ngs.sanger.ac.uk/production/ag1000g/phase1/AR3/samples/samples.all.txt\n",
      "           => '../raw.samples.all.txt'\n",
      "Resolving ngs.sanger.ac.uk (ngs.sanger.ac.uk)... 193.62.203.121\n",
      "Connecting to ngs.sanger.ac.uk (ngs.sanger.ac.uk)|193.62.203.121|:21... connected.\n",
      "Logging in as anonymous ... Logged in!\n",
      "==> SYST ... done.    ==> PWD ... done.\n",
      "==> TYPE I ... done.  ==> CWD (1) /production/ag1000g/phase1/AR3/samples ... done.\n",
      "==> SIZE samples.all.txt ... 299245\n",
      "==> PASV ... done.    ==> RETR samples.all.txt ... done.\n",
      "Length: 299245 (292K) (unauthoritative)\n",
      "\n",
      "samples.all.txt     100%[===================>] 292.23K   235KB/s    in 1.2s    \n",
      "\n",
      "2016-07-05 15:56:00 (235 KB/s) - '../raw.samples.all.txt' saved [299245]\n",
      "\n"
     ]
    }
   ],
   "source": [
    "!wget ftp://ngs.sanger.ac.uk/production/ag1000g/phase1/AR3/samples/samples.all.txt -O ../raw/samples.all.txt"
   ]
  },
  {
   "cell_type": "markdown",
   "metadata": {},
   "source": [
    "# HDF5 download"
   ]
  },
  {
   "cell_type": "markdown",
   "metadata": {},
   "source": [
    "## Careful: This is a 18 GB file!"
   ]
  },
  {
   "cell_type": "code",
   "execution_count": 3,
   "metadata": {
    "collapsed": false
   },
   "outputs": [
    {
     "name": "stdout",
     "output_type": "stream",
     "text": [
      "--2016-07-05 15:56:00--  ftp://ngs.sanger.ac.uk/production/ag1000g/phase1/AR3/variation/main/hdf5/ag1000g.phase1.ar3.pass.3L.h5\n",
      "           => '../raw/total-3L.h5'\n",
      "Resolving ngs.sanger.ac.uk (ngs.sanger.ac.uk)... 193.62.203.121\n",
      "Connecting to ngs.sanger.ac.uk (ngs.sanger.ac.uk)|193.62.203.121|:21... connected.\n",
      "Logging in as anonymous ... Logged in!\n",
      "==> SYST ... done.    ==> PWD ... done.\n",
      "==> TYPE I ... done.  ==> CWD (1) /production/ag1000g/phase1/AR3/variation/main/hdf5 ... done.\n",
      "==> SIZE ag1000g.phase1.ar3.pass.3L.h5 ... 19800272083\n",
      "==> PASV ... done.    ==> RETR ag1000g.phase1.ar3.pass.3L.h5 ... done.\n",
      "Length: 19800272083 (18G) (unauthoritative)\n",
      "\n",
      "ag1000g.phase1.ar3. 100%[===================>]  18.44G  18.1MB/s    in 21m 1s  \n",
      "\n",
      "2016-07-05 16:17:04 (15.0 MB/s) - '../raw/total-3L.h5' saved [19800272083]\n",
      "\n"
     ]
    }
   ],
   "source": [
    "!wget -c ftp://ngs.sanger.ac.uk/production/ag1000g/phase1/AR3/variation/main/hdf5/ag1000g.phase1.ar3.pass.3L.h5 -O ../raw/total-3L.h5"
   ]
  },
  {
   "cell_type": "markdown",
   "metadata": {},
   "source": [
    "# VCF download"
   ]
  },
  {
   "cell_type": "markdown",
   "metadata": {},
   "source": [
    "## 44 GB download"
   ]
  },
  {
   "cell_type": "markdown",
   "metadata": {},
   "source": [
    "Explain index file on server side"
   ]
  },
  {
   "cell_type": "code",
   "execution_count": 4,
   "metadata": {
    "collapsed": false
   },
   "outputs": [
    {
     "name": "stdout",
     "output_type": "stream",
     "text": [
      "--2016-07-05 16:17:04--  ftp://ngs.sanger.ac.uk/production/ag1000g/phase1/AR3/variation/main/vcf/ag1000g.phase1.ar3.pass.3L.vcf.gz\n",
      "           => '../raw/total-3L.vcf.gz'\n",
      "Resolving ngs.sanger.ac.uk (ngs.sanger.ac.uk)... 193.62.203.121\n",
      "Connecting to ngs.sanger.ac.uk (ngs.sanger.ac.uk)|193.62.203.121|:21... connected.\n",
      "Logging in as anonymous ... Logged in!\n",
      "==> SYST ... done.    ==> PWD ... done.\n",
      "==> TYPE I ... done.  ==> CWD (1) /production/ag1000g/phase1/AR3/variation/main/vcf ... done.\n",
      "==> SIZE ag1000g.phase1.ar3.pass.3L.vcf.gz ... 47480539863\n",
      "==> PASV ... done.    ==> RETR ag1000g.phase1.ar3.pass.3L.vcf.gz ... done.\n",
      "Length: 47480539863 (44G) (unauthoritative)\n",
      "\n",
      "ag1000g.phase1.ar3. 100%[===================>]  44.22G  18.0MB/s    in 51m 38s \n",
      "\n",
      "2016-07-05 17:08:44 (14.6 MB/s) - '../raw/total-3L.vcf.gz' saved [47480539863]\n",
      "\n"
     ]
    }
   ],
   "source": [
    "!wget -c ftp://ngs.sanger.ac.uk/production/ag1000g/phase1/AR3/variation/main/vcf/ag1000g.phase1.ar3.pass.3L.vcf.gz -O ../raw/total-3L.vcf.gz"
   ]
  },
  {
   "cell_type": "code",
   "execution_count": 5,
   "metadata": {
    "collapsed": false
   },
   "outputs": [
    {
     "name": "stdout",
     "output_type": "stream",
     "text": [
      "--2016-07-05 17:08:44--  ftp://ngs.sanger.ac.uk/production/ag1000g/phase1/AR3/variation/main/vcf/ag1000g.phase1.ar3.pass.3L.vcf.gz.tbi\n",
      "           => '../raw/total-3L.vcf.gz.tbi'\n",
      "Resolving ngs.sanger.ac.uk (ngs.sanger.ac.uk)... 193.62.203.121\n",
      "Connecting to ngs.sanger.ac.uk (ngs.sanger.ac.uk)|193.62.203.121|:21... connected.\n",
      "Logging in as anonymous ... Logged in!\n",
      "==> SYST ... done.    ==> PWD ... done.\n",
      "==> TYPE I ... done.  ==> CWD (1) /production/ag1000g/phase1/AR3/variation/main/vcf ... done.\n",
      "==> SIZE ag1000g.phase1.ar3.pass.3L.vcf.gz.tbi ... 44628\n",
      "==> PASV ... done.    ==> RETR ag1000g.phase1.ar3.pass.3L.vcf.gz.tbi ... done.\n",
      "Length: 44628 (44K) (unauthoritative)\n",
      "\n",
      "ag1000g.phase1.ar3. 100%[===================>]  43.58K   145KB/s    in 0.3s    \n",
      "\n",
      "2016-07-05 17:08:47 (145 KB/s) - '../raw/total-3L.vcf.gz.tbi' saved [44628]\n",
      "\n"
     ]
    }
   ],
   "source": [
    "!wget -c ftp://ngs.sanger.ac.uk/production/ag1000g/phase1/AR3/variation/main/vcf/ag1000g.phase1.ar3.pass.3L.vcf.gz.tbi -O ../raw/total-3L.vcf.gz.tbi"
   ]
  },
  {
   "cell_type": "markdown",
   "metadata": {},
   "source": [
    "## Partial download"
   ]
  },
  {
   "cell_type": "code",
   "execution_count": 2,
   "metadata": {
    "collapsed": false
   },
   "outputs": [],
   "source": [
    "!tabix -fh ftp://ngs.sanger.ac.uk/production/ag1000g/phase1/AR3/variation/main/vcf/ag1000g.phase1.ar3.pass.biallelic.3L.vcf.gz 3L:10000000-10050000|bgzip -c > ../raw/part-3L.vcf.gz"
   ]
  },
  {
   "cell_type": "code",
   "execution_count": 3,
   "metadata": {
    "collapsed": true
   },
   "outputs": [],
   "source": [
    "!tabix ../raw/part-3L.vcf.gz"
   ]
  },
  {
   "cell_type": "code",
   "execution_count": null,
   "metadata": {
    "collapsed": true
   },
   "outputs": [],
   "source": []
  }
 ],
 "metadata": {
  "kernelspec": {
   "display_name": "Python 3",
   "language": "python",
   "name": "python3"
  },
  "language_info": {
   "codemirror_mode": {
    "name": "ipython",
    "version": 3
   },
   "file_extension": ".py",
   "mimetype": "text/x-python",
   "name": "python",
   "nbconvert_exporter": "python",
   "pygments_lexer": "ipython3",
   "version": "3.5.2"
  }
 },
 "nbformat": 4,
 "nbformat_minor": 0
}
