{
 "cells": [
  {
   "cell_type": "code",
   "execution_count": 1,
   "metadata": {
    "collapsed": false
   },
   "outputs": [],
   "source": [
    "!mkdir ../raw 2> /dev/null  # OK if already exists"
   ]
  },
  {
   "cell_type": "markdown",
   "metadata": {},
   "source": [
    "# Metadata"
   ]
  },
  {
   "cell_type": "code",
   "execution_count": 3,
   "metadata": {
    "collapsed": false
   },
   "outputs": [
    {
     "name": "stdout",
     "output_type": "stream",
     "text": [
      "--2016-06-23 21:39:37--  ftp://ngs.sanger.ac.uk/production/ag1000g/phase1/AR3/samples/samples.all.txt\n",
      "           => '../raw/samples.all.txt'\n",
      "Resolving ngs.sanger.ac.uk (ngs.sanger.ac.uk)... 193.62.203.121\n",
      "Connecting to ngs.sanger.ac.uk (ngs.sanger.ac.uk)|193.62.203.121|:21... connected.\n",
      "Logging in as anonymous ... Logged in!\n",
      "==> SYST ... done.    ==> PWD ... done.\n",
      "==> TYPE I ... done.  ==> CWD (1) /production/ag1000g/phase1/AR3/samples ... done.\n",
      "==> SIZE samples.all.txt ... 299245\n",
      "==> PASV ... done.    ==> RETR samples.all.txt ... done.\n",
      "Length: 299245 (292K) (unauthoritative)\n",
      "\n",
      "samples.all.txt     100%[===================>] 292.23K   266KB/s    in 1.1s    \n",
      "\n",
      "2016-06-23 21:39:40 (266 KB/s) - '../raw/samples.all.txt' saved [299245]\n",
      "\n"
     ]
    }
   ],
   "source": [
    "!wget ftp://ngs.sanger.ac.uk/production/ag1000g/phase1/AR3/samples/samples.all.txt -P ../raw"
   ]
  },
  {
   "cell_type": "markdown",
   "metadata": {},
   "source": [
    "# HDF5 download"
   ]
  },
  {
   "cell_type": "markdown",
   "metadata": {},
   "source": [
    "## Careful: This is a 18 GB file!"
   ]
  },
  {
   "cell_type": "code",
   "execution_count": 4,
   "metadata": {
    "collapsed": false
   },
   "outputs": [
    {
     "name": "stdout",
     "output_type": "stream",
     "text": [
      "--2016-06-20 17:20:05--  ftp://ngs.sanger.ac.uk/production/ag1000g/phase1/AR3/variation/main/hdf5/ag1000g.phase1.ar3.pass.3L.h5\n",
      "           => '../raw/ag1000g.phase1.ar3.pass.3L.h5'\n",
      "Resolving ngs.sanger.ac.uk (ngs.sanger.ac.uk)... 193.62.203.121\n",
      "Connecting to ngs.sanger.ac.uk (ngs.sanger.ac.uk)|193.62.203.121|:21... connected.\n",
      "Logging in as anonymous ... Logged in!\n",
      "==> SYST ... done.    ==> PWD ... done.\n",
      "==> TYPE I ... done.  ==> CWD (1) /production/ag1000g/phase1/AR3/variation/main/hdf5 ... done.\n",
      "==> SIZE ag1000g.phase1.ar3.pass.3L.h5 ... 19800272083\n",
      "==> PASV ... done.    ==> RETR ag1000g.phase1.ar3.pass.3L.h5 ... done.\n",
      "Length: 19800272083 (18G) (unauthoritative)\n",
      "\n",
      "ag1000g.phase1.ar3. 100%[===================>]  18.44G  21.2MB/s    in 15m 49s \n",
      "\n",
      "2016-06-20 17:35:57 (19.9 MB/s) - '../raw/ag1000g.phase1.ar3.pass.3L.h5' saved [19800272083]\n",
      "\n"
     ]
    }
   ],
   "source": [
    "!wget -P ../raw ftp://ngs.sanger.ac.uk/production/ag1000g/phase1/AR3/variation/main/hdf5/ag1000g.phase1.ar3.pass.3L.h5"
   ]
  },
  {
   "cell_type": "markdown",
   "metadata": {},
   "source": [
    "# VCF download"
   ]
  },
  {
   "cell_type": "markdown",
   "metadata": {},
   "source": [
    "## 28 GB download"
   ]
  },
  {
   "cell_type": "markdown",
   "metadata": {},
   "source": [
    "Explain index file on server side"
   ]
  },
  {
   "cell_type": "code",
   "execution_count": 4,
   "metadata": {
    "collapsed": false
   },
   "outputs": [
    {
     "name": "stdout",
     "output_type": "stream",
     "text": [
      "--2016-06-30 23:21:09--  ftp://ngs.sanger.ac.uk/production/ag1000g/phase1/AR3/variation/main/vcf/ag1000g.phase1.ar3.pass.biallelic.3L.vcf.gz\n",
      "           => '../raw/total-3L.vcf.gz'\n",
      "Resolving ngs.sanger.ac.uk (ngs.sanger.ac.uk)... 193.62.203.121\n",
      "Connecting to ngs.sanger.ac.uk (ngs.sanger.ac.uk)|193.62.203.121|:21... connected.\n",
      "Logging in as anonymous ... Logged in!\n",
      "==> SYST ... done.    ==> PWD ... done.\n",
      "==> TYPE I ... done.  ==> CWD (1) /production/ag1000g/phase1/AR3/variation/main/vcf ... done.\n",
      "==> SIZE ag1000g.phase1.ar3.pass.biallelic.3L.vcf.gz ... 30523537703\n",
      "==> PASV ... done.    ==> RETR ag1000g.phase1.ar3.pass.biallelic.3L.vcf.gz ... done.\n",
      "Length: 30523537703 (28G) (unauthoritative)\n",
      "\n",
      "ag1000g.phase1.ar3. 100%[===================>]  28.43G  21.2MB/s    in 29m 30s \n",
      "\n",
      "2016-06-30 23:50:41 (16.4 MB/s) - '../raw/total-3L.vcf.gz' saved [30523537703]\n",
      "\n"
     ]
    }
   ],
   "source": [
    "!wget ftp://ngs.sanger.ac.uk/production/ag1000g/phase1/AR3/variation/main/vcf/ag1000g.phase1.ar3.pass.biallelic.3L.vcf.gz -O ../raw/total-3L.vcf.gz"
   ]
  },
  {
   "cell_type": "markdown",
   "metadata": {},
   "source": [
    "## Partial download"
   ]
  },
  {
   "cell_type": "code",
   "execution_count": 5,
   "metadata": {
    "collapsed": true
   },
   "outputs": [],
   "source": [
    "!tabix -fh ftp://ngs.sanger.ac.uk/production/ag1000g/phase1/AR3/variation/main/vcf/ag1000g.phase1.ar3.pass.biallelic.3L.vcf.gz 3L:10000000-11000000|bgzip -c > ../raw/part-3L.vcf.gz"
   ]
  },
  {
   "cell_type": "markdown",
   "metadata": {},
   "source": [
    "# Comparing both"
   ]
  },
  {
   "cell_type": "markdown",
   "metadata": {},
   "source": [
    "HDF5 includes the whole chromosome with all high-quality SNPs. VCF is partial, and includes only high-quality bi-allelic SNPs. See a comparison later."
   ]
  },
  {
   "cell_type": "code",
   "execution_count": null,
   "metadata": {
    "collapsed": true
   },
   "outputs": [],
   "source": []
  }
 ],
 "metadata": {
  "kernelspec": {
   "display_name": "Python 3",
   "language": "python",
   "name": "python3"
  },
  "language_info": {
   "codemirror_mode": {
    "name": "ipython",
    "version": 3
   },
   "file_extension": ".py",
   "mimetype": "text/x-python",
   "name": "python",
   "nbconvert_exporter": "python",
   "pygments_lexer": "ipython3",
   "version": "3.5.1"
  }
 },
 "nbformat": 4,
 "nbformat_minor": 0
}
