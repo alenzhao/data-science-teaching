{
 "cells": [
  {
   "cell_type": "code",
   "execution_count": 1,
   "metadata": {
    "collapsed": true
   },
   "outputs": [],
   "source": [
    "import ftplib\n",
    "import getpass"
   ]
  },
  {
   "cell_type": "code",
   "execution_count": 2,
   "metadata": {
    "collapsed": true
   },
   "outputs": [],
   "source": [
    "#import urllib3\n",
    "#urllib3.disable_warnings(urllib3.exceptions.InsecureRequestWarning)\n",
    "import warnings\n",
    "warnings.filterwarnings('ignore')\n",
    "# explain above, and warn"
   ]
  },
  {
   "cell_type": "code",
   "execution_count": 3,
   "metadata": {
    "collapsed": false
   },
   "outputs": [],
   "source": [
    "from bioblend.galaxy import GalaxyInstance\n",
    "from bioblend.galaxy.histories import HistoryClient\n",
    "from bioblend.galaxy.datasets import DatasetClient"
   ]
  },
  {
   "cell_type": "code",
   "execution_count": 4,
   "metadata": {
    "collapsed": true
   },
   "outputs": [],
   "source": [
    "#Need to create a file with this\n",
    "with open('../galaxy.api') as f:\n",
    "    api_key = f.readline().rstrip()"
   ]
  },
  {
   "cell_type": "code",
   "execution_count": 5,
   "metadata": {
    "collapsed": false
   },
   "outputs": [
    {
     "name": "stdout",
     "output_type": "stream",
     "text": [
      "········\n"
     ]
    }
   ],
   "source": [
    "server = 'https://bioinformatics.dbs.umt.edu'\n",
    "ftp_server = 'bioinformatics.dbs.umt.edu'\n",
    "ftp_user = 'tiago.antao@mso.umt.edu'\n",
    "ftp_port = 8021\n",
    "ftp_pass = getpass.getpass()"
   ]
  },
  {
   "cell_type": "code",
   "execution_count": 6,
   "metadata": {
    "collapsed": false
   },
   "outputs": [],
   "source": [
    "gi = GalaxyInstance(url=server, key=api_key)\n",
    "gi.verify = False\n",
    "histories = gi.histories"
   ]
  },
  {
   "cell_type": "code",
   "execution_count": 7,
   "metadata": {
    "collapsed": false
   },
   "outputs": [
    {
     "name": "stdout",
     "output_type": "stream",
     "text": [
      "data_science_example\n",
      "Jenya\n",
      "Unnamed history\n",
      "Marc\n",
      "brian\n",
      "Data Manager History (automatically created)\n",
      "reference genomes\n",
      "Unnamed history\n"
     ]
    }
   ],
   "source": [
    "for history in histories.get_histories():\n",
    "    if history['name'] == 'data_science_example':\n",
    "        histories.delete_history(history['id'])\n",
    "    print(history['name'])"
   ]
  },
  {
   "cell_type": "code",
   "execution_count": 8,
   "metadata": {
    "collapsed": false
   },
   "outputs": [],
   "source": [
    "ds_history = histories.create_history('data_science_example')"
   ]
  },
  {
   "cell_type": "code",
   "execution_count": 10,
   "metadata": {
    "collapsed": false
   },
   "outputs": [],
   "source": [
    "ftp = ftplib.FTP() \n",
    "ftp.connect(host=ftp_server,port=ftp_port)\n",
    "ftp.login(user=ftp_user, passwd=ftp_pass)\n",
    "f = open('../raw/part-3L.vcf.gz','rb')\n",
    "ftp.set_pasv(False)  # explain\n",
    "ftp.storbinary('STOR part-3L.vcf.gz', f)\n",
    "f.close() \n",
    "ftp.close()"
   ]
  },
  {
   "cell_type": "code",
   "execution_count": 11,
   "metadata": {
    "collapsed": false
   },
   "outputs": [
    {
     "data": {
      "text/plain": [
       "{'implicit_collections': [],\n",
       " 'jobs': [{'create_time': '2016-08-04T23:54:28.736137',\n",
       "   'exit_code': None,\n",
       "   'id': '051d7c9c6457a3ff',\n",
       "   'model_class': 'Job',\n",
       "   'state': 'new',\n",
       "   'tool_id': 'upload1',\n",
       "   'update_time': '2016-08-04T23:54:28.817042'}],\n",
       " 'output_collections': [],\n",
       " 'outputs': [{'create_time': '2016-08-04T23:54:28.490803',\n",
       "   'data_type': 'galaxy.datatypes.data.Text',\n",
       "   'deleted': False,\n",
       "   'file_ext': 'auto',\n",
       "   'file_size': 0,\n",
       "   'genome_build': '?',\n",
       "   'hda_ldda': 'hda',\n",
       "   'hid': 1,\n",
       "   'history_content_type': 'dataset',\n",
       "   'history_id': '970ffdc952eabf5a',\n",
       "   'id': 'eece6a6e703396d3',\n",
       "   'metadata_data_lines': None,\n",
       "   'metadata_dbkey': '?',\n",
       "   'misc_blurb': None,\n",
       "   'misc_info': None,\n",
       "   'model_class': 'HistoryDatasetAssociation',\n",
       "   'name': 'part-3L.vcf.gz',\n",
       "   'output_name': 'output0',\n",
       "   'peek': '<table cellspacing=\"0\" cellpadding=\"3\"></table>',\n",
       "   'purged': False,\n",
       "   'state': 'queued',\n",
       "   'tags': [],\n",
       "   'update_time': '2016-08-04T23:54:28.656082',\n",
       "   'uuid': 'a7af43b7-c25b-498d-be46-97e24c3275dc',\n",
       "   'visible': True}]}"
      ]
     },
     "execution_count": 11,
     "metadata": {},
     "output_type": "execute_result"
    }
   ],
   "source": [
    "gi.tools.upload_from_ftp('part-3L.vcf.gz', ds_history['id'])"
   ]
  },
  {
   "cell_type": "code",
   "execution_count": null,
   "metadata": {
    "collapsed": true
   },
   "outputs": [],
   "source": []
  }
 ],
 "metadata": {
  "kernelspec": {
   "display_name": "Python 3",
   "language": "python",
   "name": "python3"
  },
  "language_info": {
   "codemirror_mode": {
    "name": "ipython",
    "version": 3
   },
   "file_extension": ".py",
   "mimetype": "text/x-python",
   "name": "python",
   "nbconvert_exporter": "python",
   "pygments_lexer": "ipython3",
   "version": "3.5.2"
  }
 },
 "nbformat": 4,
 "nbformat_minor": 0
}
