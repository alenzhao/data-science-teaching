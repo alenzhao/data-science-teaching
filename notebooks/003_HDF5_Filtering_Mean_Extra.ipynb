{
 "cells": [
  {
   "cell_type": "code",
   "execution_count": 22,
   "metadata": {
    "collapsed": false
   },
   "outputs": [
    {
     "name": "stdout",
     "output_type": "stream",
     "text": [
      "Help on method sample in module random:\n",
      "\n",
      "sample(population, k) method of random.Random instance\n",
      "    Chooses k unique random elements from a population sequence or set.\n",
      "    \n",
      "    Returns a new list containing elements from the population while\n",
      "    leaving the original population unchanged.  The resulting list is\n",
      "    in selection order so that all sub-slices will also be valid random\n",
      "    samples.  This allows raffle winners (the sample) to be partitioned\n",
      "    into grand prize and second place winners (the subslices).\n",
      "    \n",
      "    Members of the population need not be hashable or unique.  If the\n",
      "    population contains repeats, then each occurrence is a possible\n",
      "    selection in the sample.\n",
      "    \n",
      "    To choose a sample in a range of integers, use range as an argument.\n",
      "    This is especially fast and space efficient for sampling from a\n",
      "    large population:   sample(range(10000000), 60)\n",
      "\n"
     ]
    }
   ],
   "source": [
    "import random"
   ]
  },
  {
   "cell_type": "code",
   "execution_count": 4,
   "metadata": {
    "collapsed": false
   },
   "outputs": [],
   "source": [
    "sample_1 = list(range(10))\n",
    "sample_2 = [100000000] + list(range(10))"
   ]
  },
  {
   "cell_type": "code",
   "execution_count": 15,
   "metadata": {
    "collapsed": true
   },
   "outputs": [],
   "source": [
    "def mean(sample):\n",
    "    return sum(sample) / len(sample)\n",
    "\n",
    "def median(sample):\n",
    "    sorted_sample = sorted(sample)\n",
    "    size = len(sorted_sample)\n",
    "    if size % 2 == 1:\n",
    "        return sorted_sample[size // 2]\n",
    "    else:\n",
    "        return (sorted_sample[size // 2 - 1] + sorted_sample[size // 2]) / 2"
   ]
  },
  {
   "cell_type": "code",
   "execution_count": 18,
   "metadata": {
    "collapsed": false
   },
   "outputs": [
    {
     "name": "stdout",
     "output_type": "stream",
     "text": [
      "4.5 4.5\n"
     ]
    }
   ],
   "source": [
    "print(mean(sample_1), median(sample_1))"
   ]
  },
  {
   "cell_type": "code",
   "execution_count": 19,
   "metadata": {
    "collapsed": false
   },
   "outputs": [
    {
     "name": "stdout",
     "output_type": "stream",
     "text": [
      "9090913.181818182 5\n"
     ]
    }
   ],
   "source": [
    "print(mean(sample_2), median(sample_2))"
   ]
  },
  {
   "cell_type": "markdown",
   "metadata": {},
   "source": [
    "## Pseudo big-data"
   ]
  },
  {
   "cell_type": "code",
   "execution_count": 20,
   "metadata": {
    "collapsed": true
   },
   "outputs": [],
   "source": [
    "sample_3 = list(range(1000))\n",
    "sample_4 = [100000000] + list(range(1000))"
   ]
  },
  {
   "cell_type": "code",
   "execution_count": 30,
   "metadata": {
    "collapsed": true
   },
   "outputs": [],
   "source": [
    "## sub-sampling"
   ]
  },
  {
   "cell_type": "code",
   "execution_count": 31,
   "metadata": {
    "collapsed": false
   },
   "outputs": [
    {
     "name": "stdout",
     "output_type": "stream",
     "text": [
      "3 521.55 493.0\n",
      "3 517.63 517.5\n",
      "3 502.69 534.5\n",
      "3 509.63 519.0\n",
      "3 490.03 484.0\n",
      "3 505.46 490.0\n",
      "3 509.17 506.0\n",
      "3 499.22 512.5\n",
      "3 459.85 430.5\n",
      "3 499.56 460.5\n"
     ]
    }
   ],
   "source": [
    "for rep in range(10):\n",
    "    sample = random.sample(sample_3, 100)\n",
    "    print(3, mean(sample), median(sample))"
   ]
  },
  {
   "cell_type": "code",
   "execution_count": 32,
   "metadata": {
    "collapsed": false
   },
   "outputs": [
    {
     "name": "stdout",
     "output_type": "stream",
     "text": [
      "3 494.3 519.0\n",
      "3 499.62 475.0\n",
      "3 472.43 481.0\n",
      "3 525.0 537.0\n",
      "3 1000491.31 530.5\n",
      "3 503.44 505.5\n",
      "3 505.24 548.0\n",
      "3 545.27 614.5\n",
      "3 435.75 406.0\n",
      "3 465.8 443.5\n"
     ]
    }
   ],
   "source": [
    "for rep in range(10):\n",
    "    sample = random.sample(sample_4, 100)\n",
    "    print(3, mean(sample), median(sample))"
   ]
  },
  {
   "cell_type": "markdown",
   "metadata": {},
   "source": [
    "## Hash table"
   ]
  },
  {
   "cell_type": "markdown",
   "metadata": {},
   "source": [
    "## Hash table with approximation"
   ]
  },
  {
   "cell_type": "code",
   "execution_count": null,
   "metadata": {
    "collapsed": true
   },
   "outputs": [],
   "source": []
  }
 ],
 "metadata": {
  "kernelspec": {
   "display_name": "Python 3",
   "language": "python",
   "name": "python3"
  },
  "language_info": {
   "codemirror_mode": {
    "name": "ipython",
    "version": 3
   },
   "file_extension": ".py",
   "mimetype": "text/x-python",
   "name": "python",
   "nbconvert_exporter": "python",
   "pygments_lexer": "ipython3",
   "version": "3.5.2"
  }
 },
 "nbformat": 4,
 "nbformat_minor": 0
}
