{
 "cells": [
  {
   "cell_type": "markdown",
   "metadata": {
    "collapsed": true
   },
   "source": [
    "# Preliminary notes\n",
    "\n",
    "- Some notebooks might be referred more than once if they are used explain different concepts\n",
    "- With time some of the links might break (as I rename things), if you find a case like that [please send me an email](mailto:tiagoantao@gmail.com).\n",
    "\n",
    "# Content\n",
    "\n",
    "## Download and preparation\n",
    "\n",
    "- [Data download](https://nbviewer.jupyter.org/github/tiagoantao/data-science-teaching/blob/master/notebooks/preparation/Download_Data.ipynb)\n",
    "\n",
    "## Basic data exploration\n",
    "\n",
    "- [Metadata exploration](https://nbviewer.jupyter.org/github/tiagoantao/data-science-teaching/blob/master/notebooks/main/Metadata.ipynb)\n",
    "- [Simple analysis of HDF5 content](https://nbviewer.jupyter.org/github/tiagoantao/data-science-teaching/blob/master/notebooks/main/Basic_Exploration.ipynb)\n",
    "\n",
    "## Parallel computing\n",
    "\n",
    "- [Converting VCF to HDF5](https://nbviewer.jupyter.org/github/tiagoantao/data-science-teaching/blob/master/notebooks/003_VCF_Processing_Parallel.ipynb)\n",
    "\n",
    "## Data management\n",
    "\n",
    "\n",
    "## Data management for efficient computation\n",
    "\n",
    "\n",
    "## Programming techniques\n",
    "\n",
    "- [Generators (Introduction)](https://nbviewer.jupyter.org/github/tiagoantao/data-science-teaching/blob/master/notebooks/003_HDF5_Filtering_Generators_Extra.ipynb)\n",
    "- [Means and Medians](https://nbviewer.jupyter.org/github/tiagoantao/data-science-teaching/blob/master/notebooks/003_HDF5_Filtering_Mean_Extra.ipynb)\n",
    "\n",
    "# Extras\n",
    "\n",
    "## R integration\n",
    "\n",
    "- [R integration](https://nbviewer.jupyter.org/github/tiagoantao/data-science-teaching/blob/master/notebooks/advanced_programming/R_Integration.ipynb)\n",
    "\n",
    "\n",
    "## Galaxy\n",
    "\n",
    "-  [Galaxy API - Bioblend](https://nbviewer.jupyter.org/github/tiagoantao/data-science-teaching/blob/master/notebooks/bioinformatics/Galaxy_with_Bioblend.ipynb)\n",
    "\n",
    "# To be catalogued\n",
    "\n",
    "- [Filtering](https://nbviewer.jupyter.org/github/tiagoantao/data-science-teaching/blob/master/notebooks/003_HDF5_Filtering.ipynb)\n",
    "- [Performance](https://nbviewer.jupyter.org/github/tiagoantao/data-science-teaching/blob/master/notebooks/003_Performance.ipynb)\n",
    "- [Performance - CPU](https://nbviewer.jupyter.org/github/tiagoantao/data-science-teaching/blob/master/notebooks/003_Performance_CPU.ipynb)\n",
    "- [Speed comparison](https://nbviewer.jupyter.org/github/tiagoantao/data-science-teaching/blob/master/notebooks/002_HDF5_VCF_Speed_Comparison.ipynb)\n"
   ]
  },
  {
   "cell_type": "code",
   "execution_count": null,
   "metadata": {
    "collapsed": true
   },
   "outputs": [],
   "source": []
  }
 ],
 "metadata": {
  "kernelspec": {
   "display_name": "Python [default]",
   "language": "python",
   "name": "python3"
  },
  "language_info": {
   "codemirror_mode": {
    "name": "ipython",
    "version": 3
   },
   "file_extension": ".py",
   "mimetype": "text/x-python",
   "name": "python",
   "nbconvert_exporter": "python",
   "pygments_lexer": "ipython3",
   "version": "3.5.2"
  }
 },
 "nbformat": 4,
 "nbformat_minor": 0
}
