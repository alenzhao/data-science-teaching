{
 "cells": [
  {
   "cell_type": "markdown",
   "metadata": {
    "collapsed": true
   },
   "source": [
    "# Preliminary notes\n",
    "\n",
    "- Some notebooks might be referred more than once if they are used explain different concepts\n",
    "- With time some of the links might break (as I rename things), if you find a case like that [please send me an email](mailto:tiagoantao@gmail.com).\n",
    "\n",
    "# Content\n",
    "\n",
    "## Download and preparation\n",
    "\n",
    "- [Data download](https://nbviewer.jupyter.org/github/tiagoantao/data-science-teaching/blob/master/notebooks/000_Download_Data.ipynb)\n",
    "\n",
    "## Basic data exploration\n",
    "\n",
    "- [Metadata exploration](https://github.com/tiagoantao/data-science-teaching/blob/master/notebooks/001_Metadata.ipynb)\n",
    "- [Simple analysis of HDF5 content](https://github.com/tiagoantao/data-science-teaching/blob/master/notebooks/001_Exploration.ipynb)\n",
    "\n",
    "## Parallel computing\n",
    "\n",
    "- [Converting VCF to HDF5](https://nbviewer.jupyter.org/github/tiagoantao/data-science-teaching/blob/master/notebooks/003_VCF_Processing_Parallel.ipynb)\n",
    "\n",
    "## Data management\n",
    "\n",
    "- [Sub-sampling](https://nbviewer.jupyter.org/github/tiagoantao/data-science-teaching/blob/master/notebooks/003_HDF5_Reduction.ipynb)\n",
    "\n",
    "## Data management for efficient computation\n",
    "\n",
    "- [Comparing the speed performance of VCF and HDF5 formats](https://nbviewer.jupyter.org/github/tiagoantao/data-science-teaching/blob/master/notebooks/002_HDF5_VCF_Speed_Comparison.ipynb)\n",
    "- [Sub-sampling](https://nbviewer.jupyter.org/github/tiagoantao/data-science-teaching/blob/master/notebooks/003_HDF5_Reduction.ipynb)\n",
    "\n",
    "## Programming techniques\n",
    "\n",
    "- [Generators (Sub-sampling)](https://nbviewer.jupyter.org/github/tiagoantao/data-science-teaching/blob/master/notebooks/003_HDF5_Reduction.ipynb)\n"
   ]
  },
  {
   "cell_type": "code",
   "execution_count": null,
   "metadata": {
    "collapsed": true
   },
   "outputs": [],
   "source": []
  }
 ],
 "metadata": {
  "kernelspec": {
   "display_name": "Python 3",
   "language": "python",
   "name": "python3"
  },
  "language_info": {
   "codemirror_mode": {
    "name": "ipython",
    "version": 3
   },
   "file_extension": ".py",
   "mimetype": "text/x-python",
   "name": "python",
   "nbconvert_exporter": "python",
   "pygments_lexer": "ipython3",
   "version": "3.5.2"
  }
 },
 "nbformat": 4,
 "nbformat_minor": 0
}
